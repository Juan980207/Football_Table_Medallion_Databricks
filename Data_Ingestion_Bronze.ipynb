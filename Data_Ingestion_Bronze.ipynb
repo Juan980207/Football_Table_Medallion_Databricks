{
 "cells": [
  {
   "cell_type": "code",
   "execution_count": 0,
   "metadata": {
    "application/vnd.databricks.v1+cell": {
     "cellMetadata": {
      "byteLimit": 2048000,
      "implicitDf": true,
      "rowLimit": 10000
     },
     "inputWidgets": {},
     "nuid": "14a7f6f8-f294-44f1-b086-3030d449ea4d",
     "showTitle": false,
     "tableResultSettingsMap": {},
     "title": ""
    },
    "jupyter": {
     "outputs_hidden": true
    }
   },
   "outputs": [],
   "source": [
    "%sql\n",
    "CREATE SCHEMA IF NOT EXISTS\n",
    "brasileirao_medallion.bronze"
   ]
  },
  {
   "cell_type": "code",
   "execution_count": 0,
   "metadata": {
    "application/vnd.databricks.v1+cell": {
     "cellMetadata": {
      "byteLimit": 2048000,
      "implicitDf": true,
      "rowLimit": 10000
     },
     "inputWidgets": {},
     "nuid": "1a62c50d-524f-43a2-b51b-15719e2a79c2",
     "showTitle": false,
     "tableResultSettingsMap": {},
     "title": ""
    }
   },
   "outputs": [],
   "source": [
    "%sql\n",
    "CREATE OR REPLACE TABLE brasileirao_medallion.bronze.table_bronze (\n",
    "  dateUpdated STRING,\n",
    "  idLeague STRING,\n",
    "  idStanding STRING,\n",
    "  idTeam STRING,\n",
    "  intDraw INT,\n",
    "  intGoalDifference INT,\n",
    "  intGoalsAgainst INT,\n",
    "  intGoalsFor INT,\n",
    "  intLoss INT,\n",
    "  intPlayed INT,\n",
    "  intPoints INT,\n",
    "  intRank INT,\n",
    "  intWin INT,\n",
    "  strBadge STRING,\n",
    "  strDescription STRING,\n",
    "  strForm STRING,\n",
    "  strLeague STRING,\n",
    "  strSeason STRING,\n",
    "  strTeam STRING,\n",
    "  upload_bronze TIMESTAMP,\n",
    "  source STRING\n",
    ")\n",
    "USING DELTA;"
   ]
  },
  {
   "cell_type": "code",
   "execution_count": 0,
   "metadata": {
    "application/vnd.databricks.v1+cell": {
     "cellMetadata": {
      "byteLimit": 2048000,
      "rowLimit": 10000
     },
     "inputWidgets": {},
     "nuid": "521240c7-cfd1-4afb-99ca-734c44549b90",
     "showTitle": false,
     "tableResultSettingsMap": {},
     "title": ""
    }
   },
   "outputs": [],
   "source": [
    "from pyspark.sql.functions import current_timestamp, lit"
   ]
  },
  {
   "cell_type": "code",
   "execution_count": 0,
   "metadata": {
    "application/vnd.databricks.v1+cell": {
     "cellMetadata": {
      "byteLimit": 2048000,
      "implicitDf": true,
      "rowLimit": 10000
     },
     "inputWidgets": {},
     "nuid": "a823d6ce-3a91-4a3d-baf2-54c791b6c908",
     "showTitle": false,
     "tableResultSettingsMap": {},
     "title": ""
    }
   },
   "outputs": [],
   "source": [
    "from pyspark.sql.functions import current_timestamp, lit\n",
    "\n",
    "df = spark.read.json(\"abfss://table@brasileiraotable.dfs.core.windows.net/table_2025.json\")\n",
    "df = df.selectExpr(\"explode(table) as row\").select(\"row.*\")\n",
    "source='table_2025.json'\n",
    "\n",
    "int_cols=[\"intDraw\", \"intGoalDifference\", \"intGoalsAgainst\", \"intGoalsFor\",\n",
    "    \"intLoss\", \"intPlayed\", \"intPoints\", \"intRank\", \"intWin\"]\n",
    "\n",
    "for c in int_cols:\n",
    "  df = df.withColumn(c, df[c].cast('int'))\n",
    "\n",
    "df=df.withColumn('upload_bronze', current_timestamp()).withColumn('source', lit(source))\n",
    "df.write.format(\"delta\").mode(\"append\").saveAsTable(\"brasileirao_medallion.bronze.table_bronze\")"
   ]
  },
  {
   "cell_type": "code",
   "execution_count": 0,
   "metadata": {
    "application/vnd.databricks.v1+cell": {
     "cellMetadata": {
      "byteLimit": 2048000,
      "implicitDf": true,
      "rowLimit": 10000
     },
     "inputWidgets": {},
     "nuid": "288dbf56-0978-490e-a40f-8af615ba1bf7",
     "showTitle": false,
     "tableResultSettingsMap": {},
     "title": ""
    }
   },
   "outputs": [
    {
     "output_type": "display_data",
     "data": {
      "text/html": [
       "<style scoped>\n",
       "  .table-result-container {\n",
       "    max-height: 300px;\n",
       "    overflow: auto;\n",
       "  }\n",
       "  table, th, td {\n",
       "    border: 1px solid black;\n",
       "    border-collapse: collapse;\n",
       "  }\n",
       "  th, td {\n",
       "    padding: 5px;\n",
       "  }\n",
       "  th {\n",
       "    text-align: left;\n",
       "  }\n",
       "</style><div class='table-result-container'><table class='table-result'><thead style='background-color: white'><tr><th>dateUpdated</th><th>idLeague</th><th>idStanding</th><th>idTeam</th><th>intDraw</th><th>intGoalDifference</th><th>intGoalsAgainst</th><th>intGoalsFor</th><th>intLoss</th><th>intPlayed</th><th>intPoints</th><th>intRank</th><th>intWin</th><th>strBadge</th><th>strDescription</th><th>strForm</th><th>strLeague</th><th>strSeason</th><th>strTeam</th><th>upload_bronze</th><th>source</th></tr></thead><tbody><tr><td>2025-08-04 23:00:28</td><td>4351</td><td>5913002</td><td>134287</td><td>4</td><td>24</td><td>7</td><td>31</td><td>2</td><td>17</td><td>37</td><td>1</td><td>11</td><td>https://r2.thesportsdb.com/images/media/team/badge/syptwx1473538074.png/tiny</td><td>Copa Libertadores</td><td>DWWWL</td><td>Brazilian Serie A</td><td>2025</td><td>Flamengo</td><td>2025-08-06T17:29:04.308Z</td><td>table_2025.json</td></tr><tr><td>2025-08-04 23:00:28</td><td>4351</td><td>5913003</td><td>134294</td><td>4</td><td>19</td><td>11</td><td>30</td><td>3</td><td>18</td><td>37</td><td>2</td><td>11</td><td>https://r2.thesportsdb.com/images/media/team/badge/upsvvu1473538059.png/tiny</td><td>Copa Libertadores</td><td>WLDWW</td><td>Brazilian Serie A</td><td>2025</td><td>Cruzeiro</td><td>2025-08-06T17:29:04.308Z</td><td>table_2025.json</td></tr><tr><td>2025-08-04 23:00:28</td><td>4351</td><td>5913004</td><td>134465</td><td>3</td><td>7</td><td>14</td><td>21</td><td>3</td><td>16</td><td>33</td><td>3</td><td>10</td><td>https://r2.thesportsdb.com/images/media/team/badge/vsqwqp1473538105.png/tiny</td><td>Copa Libertadores</td><td>DWWWD</td><td>Brazilian Serie A</td><td>2025</td><td>Palmeiras</td><td>2025-08-06T17:29:04.308Z</td><td>table_2025.json</td></tr><tr><td>2025-08-04 23:00:28</td><td>4351</td><td>5913005</td><td>134293</td><td>5</td><td>7</td><td>13</td><td>20</td><td>3</td><td>16</td><td>29</td><td>4</td><td>8</td><td>https://r2.thesportsdb.com/images/media/team/badge/xuvtsv1473539308.png/tiny</td><td>Copa Libertadores</td><td>DWDWW</td><td>Brazilian Serie A</td><td>2025</td><td>Bahia</td><td>2025-08-06T17:29:04.308Z</td><td>table_2025.json</td></tr><tr><td>2025-08-04 23:00:28</td><td>4351</td><td>5913006</td><td>141181</td><td>7</td><td>11</td><td>16</td><td>27</td><td>2</td><td>16</td><td>28</td><td>5</td><td>7</td><td>https://r2.thesportsdb.com/images/media/team/badge/tfth1h1617198957.png/tiny</td><td>Copa Libertadores Qualification</td><td>WDWWD</td><td>Brazilian Serie A</td><td>2025</td><td>Mirassol</td><td>2025-08-06T17:29:04.308Z</td><td>table_2025.json</td></tr></tbody></table></div>"
      ]
     },
     "metadata": {
      "application/vnd.databricks.v1+output": {
       "addedWidgets": {},
       "aggData": [],
       "aggError": "",
       "aggOverflow": false,
       "aggSchema": [],
       "aggSeriesLimitReached": false,
       "aggType": "",
       "arguments": {},
       "columnCustomDisplayInfos": {},
       "data": [
        [
         "2025-08-04 23:00:28",
         "4351",
         "5913002",
         "134287",
         4,
         24,
         7,
         31,
         2,
         17,
         37,
         1,
         11,
         "https://r2.thesportsdb.com/images/media/team/badge/syptwx1473538074.png/tiny",
         "Copa Libertadores",
         "DWWWL",
         "Brazilian Serie A",
         "2025",
         "Flamengo",
         "2025-08-06T17:29:04.308Z",
         "table_2025.json"
        ],
        [
         "2025-08-04 23:00:28",
         "4351",
         "5913003",
         "134294",
         4,
         19,
         11,
         30,
         3,
         18,
         37,
         2,
         11,
         "https://r2.thesportsdb.com/images/media/team/badge/upsvvu1473538059.png/tiny",
         "Copa Libertadores",
         "WLDWW",
         "Brazilian Serie A",
         "2025",
         "Cruzeiro",
         "2025-08-06T17:29:04.308Z",
         "table_2025.json"
        ],
        [
         "2025-08-04 23:00:28",
         "4351",
         "5913004",
         "134465",
         3,
         7,
         14,
         21,
         3,
         16,
         33,
         3,
         10,
         "https://r2.thesportsdb.com/images/media/team/badge/vsqwqp1473538105.png/tiny",
         "Copa Libertadores",
         "DWWWD",
         "Brazilian Serie A",
         "2025",
         "Palmeiras",
         "2025-08-06T17:29:04.308Z",
         "table_2025.json"
        ],
        [
         "2025-08-04 23:00:28",
         "4351",
         "5913005",
         "134293",
         5,
         7,
         13,
         20,
         3,
         16,
         29,
         4,
         8,
         "https://r2.thesportsdb.com/images/media/team/badge/xuvtsv1473539308.png/tiny",
         "Copa Libertadores",
         "DWDWW",
         "Brazilian Serie A",
         "2025",
         "Bahia",
         "2025-08-06T17:29:04.308Z",
         "table_2025.json"
        ],
        [
         "2025-08-04 23:00:28",
         "4351",
         "5913006",
         "141181",
         7,
         11,
         16,
         27,
         2,
         16,
         28,
         5,
         7,
         "https://r2.thesportsdb.com/images/media/team/badge/tfth1h1617198957.png/tiny",
         "Copa Libertadores Qualification",
         "WDWWD",
         "Brazilian Serie A",
         "2025",
         "Mirassol",
         "2025-08-06T17:29:04.308Z",
         "table_2025.json"
        ]
       ],
       "datasetInfos": [
        {
         "name": "_sqldf",
         "schema": {
          "fields": [
           {
            "metadata": {},
            "name": "dateUpdated",
            "nullable": true,
            "type": "string"
           },
           {
            "metadata": {},
            "name": "idLeague",
            "nullable": true,
            "type": "string"
           },
           {
            "metadata": {},
            "name": "idStanding",
            "nullable": true,
            "type": "string"
           },
           {
            "metadata": {},
            "name": "idTeam",
            "nullable": true,
            "type": "string"
           },
           {
            "metadata": {},
            "name": "intDraw",
            "nullable": true,
            "type": "integer"
           },
           {
            "metadata": {},
            "name": "intGoalDifference",
            "nullable": true,
            "type": "integer"
           },
           {
            "metadata": {},
            "name": "intGoalsAgainst",
            "nullable": true,
            "type": "integer"
           },
           {
            "metadata": {},
            "name": "intGoalsFor",
            "nullable": true,
            "type": "integer"
           },
           {
            "metadata": {},
            "name": "intLoss",
            "nullable": true,
            "type": "integer"
           },
           {
            "metadata": {},
            "name": "intPlayed",
            "nullable": true,
            "type": "integer"
           },
           {
            "metadata": {},
            "name": "intPoints",
            "nullable": true,
            "type": "integer"
           },
           {
            "metadata": {},
            "name": "intRank",
            "nullable": true,
            "type": "integer"
           },
           {
            "metadata": {},
            "name": "intWin",
            "nullable": true,
            "type": "integer"
           },
           {
            "metadata": {},
            "name": "strBadge",
            "nullable": true,
            "type": "string"
           },
           {
            "metadata": {},
            "name": "strDescription",
            "nullable": true,
            "type": "string"
           },
           {
            "metadata": {},
            "name": "strForm",
            "nullable": true,
            "type": "string"
           },
           {
            "metadata": {},
            "name": "strLeague",
            "nullable": true,
            "type": "string"
           },
           {
            "metadata": {},
            "name": "strSeason",
            "nullable": true,
            "type": "string"
           },
           {
            "metadata": {},
            "name": "strTeam",
            "nullable": true,
            "type": "string"
           },
           {
            "metadata": {},
            "name": "upload_bronze",
            "nullable": true,
            "type": "timestamp"
           },
           {
            "metadata": {},
            "name": "source",
            "nullable": true,
            "type": "string"
           }
          ],
          "type": "struct"
         },
         "tableIdentifier": null,
         "typeStr": "pyspark.sql.connect.dataframe.DataFrame"
        }
       ],
       "dbfsResultPath": null,
       "isJsonSchema": true,
       "metadata": {
        "createTempViewForImplicitDf": true,
        "dataframeName": "_sqldf",
        "executionCount": 15
       },
       "overflow": false,
       "plotOptions": {
        "customPlotOptions": {},
        "displayType": "table",
        "pivotAggregation": null,
        "pivotColumns": null,
        "xColumns": null,
        "yColumns": null
       },
       "removedWidgets": [],
       "schema": [
        {
         "metadata": "{}",
         "name": "dateUpdated",
         "type": "\"string\""
        },
        {
         "metadata": "{}",
         "name": "idLeague",
         "type": "\"string\""
        },
        {
         "metadata": "{}",
         "name": "idStanding",
         "type": "\"string\""
        },
        {
         "metadata": "{}",
         "name": "idTeam",
         "type": "\"string\""
        },
        {
         "metadata": "{}",
         "name": "intDraw",
         "type": "\"integer\""
        },
        {
         "metadata": "{}",
         "name": "intGoalDifference",
         "type": "\"integer\""
        },
        {
         "metadata": "{}",
         "name": "intGoalsAgainst",
         "type": "\"integer\""
        },
        {
         "metadata": "{}",
         "name": "intGoalsFor",
         "type": "\"integer\""
        },
        {
         "metadata": "{}",
         "name": "intLoss",
         "type": "\"integer\""
        },
        {
         "metadata": "{}",
         "name": "intPlayed",
         "type": "\"integer\""
        },
        {
         "metadata": "{}",
         "name": "intPoints",
         "type": "\"integer\""
        },
        {
         "metadata": "{}",
         "name": "intRank",
         "type": "\"integer\""
        },
        {
         "metadata": "{}",
         "name": "intWin",
         "type": "\"integer\""
        },
        {
         "metadata": "{}",
         "name": "strBadge",
         "type": "\"string\""
        },
        {
         "metadata": "{}",
         "name": "strDescription",
         "type": "\"string\""
        },
        {
         "metadata": "{}",
         "name": "strForm",
         "type": "\"string\""
        },
        {
         "metadata": "{}",
         "name": "strLeague",
         "type": "\"string\""
        },
        {
         "metadata": "{}",
         "name": "strSeason",
         "type": "\"string\""
        },
        {
         "metadata": "{}",
         "name": "strTeam",
         "type": "\"string\""
        },
        {
         "metadata": "{}",
         "name": "upload_bronze",
         "type": "\"timestamp\""
        },
        {
         "metadata": "{}",
         "name": "source",
         "type": "\"string\""
        }
       ],
       "type": "table"
      }
     },
     "output_type": "display_data"
    }
   ],
   "source": [
    "%sql\n",
    "SELECT * FROM brasileirao_medallion.bronze.table_bronze"
   ]
  },
  {
   "cell_type": "code",
   "execution_count": 0,
   "metadata": {
    "application/vnd.databricks.v1+cell": {
     "cellMetadata": {
      "byteLimit": 2048000,
      "rowLimit": 10000
     },
     "inputWidgets": {},
     "nuid": "7ee43588-a7ec-4959-8959-1caa8f8dd136",
     "showTitle": false,
     "tableResultSettingsMap": {},
     "title": ""
    }
   },
   "outputs": [],
   "source": [
    "df=spark.readStream.format(\"cloudFiles\").option(\"cloudFiles.format\", \"json\").option(\"cloudFiles.inferSchema\",\"true\").option(\"cloudFiles.schemaLocation\", \"abfss://table@brasileiraotable.dfs.core.windows.net/schema\").load(\"abfss://table@brasileiraotable.dfs.core.windows.net/table_2025.json\")"
   ]
  },
  {
   "cell_type": "code",
   "execution_count": 0,
   "metadata": {
    "application/vnd.databricks.v1+cell": {
     "cellMetadata": {
      "byteLimit": 2048000,
      "rowLimit": 10000
     },
     "inputWidgets": {},
     "nuid": "076c58ce-7fcc-4fd2-ac3a-2b6d300dd3e0",
     "showTitle": false,
     "tableResultSettingsMap": {},
     "title": ""
    }
   },
   "outputs": [
    {
     "output_type": "execute_result",
     "data": {
      "text/plain": [
       "<pyspark.sql.connect.streaming.query.StreamingQuery at 0x7f997bafae90>"
      ]
     },
     "execution_count": 17,
     "metadata": {},
     "output_type": "execute_result"
    }
   ],
   "source": [
    "df.writeStream.format(\"delta\").outputMode(\"append\").option(\"checkpointLocation\", \"abfss://table@brasileiraotable.dfs.core.windows.net/checkpoints\").trigger(once=True).table(\"brasileirao_medallion.bronze.table_bronze\")"
   ]
  },
  {
   "cell_type": "code",
   "execution_count": 0,
   "metadata": {
    "application/vnd.databricks.v1+cell": {
     "cellMetadata": {
      "byteLimit": 2048000,
      "implicitDf": true,
      "rowLimit": 10000
     },
     "inputWidgets": {},
     "nuid": "291f4456-45fa-4c45-bf57-07e40847caa7",
     "showTitle": false,
     "tableResultSettingsMap": {},
     "title": ""
    }
   },
   "outputs": [
    {
     "output_type": "display_data",
     "data": {
      "text/html": [
       "<style scoped>\n",
       "  .table-result-container {\n",
       "    max-height: 300px;\n",
       "    overflow: auto;\n",
       "  }\n",
       "  table, th, td {\n",
       "    border: 1px solid black;\n",
       "    border-collapse: collapse;\n",
       "  }\n",
       "  th, td {\n",
       "    padding: 5px;\n",
       "  }\n",
       "  th {\n",
       "    text-align: left;\n",
       "  }\n",
       "</style><div class='table-result-container'><table class='table-result'><thead style='background-color: white'><tr><th>dateUpdated</th><th>idLeague</th><th>idStanding</th><th>idTeam</th><th>intDraw</th><th>intGoalDifference</th><th>intGoalsAgainst</th><th>intGoalsFor</th><th>intLoss</th><th>intPlayed</th><th>intPoints</th><th>intRank</th><th>intWin</th><th>strBadge</th><th>strDescription</th><th>strForm</th><th>strLeague</th><th>strSeason</th><th>strTeam</th><th>upload_bronze</th><th>source</th></tr></thead><tbody><tr><td>2025-08-04 23:00:28</td><td>4351</td><td>5913002</td><td>134287</td><td>4</td><td>24</td><td>7</td><td>31</td><td>2</td><td>17</td><td>37</td><td>1</td><td>11</td><td>https://r2.thesportsdb.com/images/media/team/badge/syptwx1473538074.png/tiny</td><td>Copa Libertadores</td><td>DWWWL</td><td>Brazilian Serie A</td><td>2025</td><td>Flamengo</td><td>2025-08-06T17:29:04.308Z</td><td>table_2025.json</td></tr><tr><td>2025-08-04 23:00:28</td><td>4351</td><td>5913003</td><td>134294</td><td>4</td><td>19</td><td>11</td><td>30</td><td>3</td><td>18</td><td>37</td><td>2</td><td>11</td><td>https://r2.thesportsdb.com/images/media/team/badge/upsvvu1473538059.png/tiny</td><td>Copa Libertadores</td><td>WLDWW</td><td>Brazilian Serie A</td><td>2025</td><td>Cruzeiro</td><td>2025-08-06T17:29:04.308Z</td><td>table_2025.json</td></tr><tr><td>2025-08-04 23:00:28</td><td>4351</td><td>5913004</td><td>134465</td><td>3</td><td>7</td><td>14</td><td>21</td><td>3</td><td>16</td><td>33</td><td>3</td><td>10</td><td>https://r2.thesportsdb.com/images/media/team/badge/vsqwqp1473538105.png/tiny</td><td>Copa Libertadores</td><td>DWWWD</td><td>Brazilian Serie A</td><td>2025</td><td>Palmeiras</td><td>2025-08-06T17:29:04.308Z</td><td>table_2025.json</td></tr><tr><td>2025-08-04 23:00:28</td><td>4351</td><td>5913005</td><td>134293</td><td>5</td><td>7</td><td>13</td><td>20</td><td>3</td><td>16</td><td>29</td><td>4</td><td>8</td><td>https://r2.thesportsdb.com/images/media/team/badge/xuvtsv1473539308.png/tiny</td><td>Copa Libertadores</td><td>DWDWW</td><td>Brazilian Serie A</td><td>2025</td><td>Bahia</td><td>2025-08-06T17:29:04.308Z</td><td>table_2025.json</td></tr><tr><td>2025-08-04 23:00:28</td><td>4351</td><td>5913006</td><td>141181</td><td>7</td><td>11</td><td>16</td><td>27</td><td>2</td><td>16</td><td>28</td><td>5</td><td>7</td><td>https://r2.thesportsdb.com/images/media/team/badge/tfth1h1617198957.png/tiny</td><td>Copa Libertadores Qualification</td><td>WDWWD</td><td>Brazilian Serie A</td><td>2025</td><td>Mirassol</td><td>2025-08-06T17:29:04.308Z</td><td>table_2025.json</td></tr></tbody></table></div>"
      ]
     },
     "metadata": {
      "application/vnd.databricks.v1+output": {
       "addedWidgets": {},
       "aggData": [],
       "aggError": "",
       "aggOverflow": false,
       "aggSchema": [],
       "aggSeriesLimitReached": false,
       "aggType": "",
       "arguments": {},
       "columnCustomDisplayInfos": {},
       "data": [
        [
         "2025-08-04 23:00:28",
         "4351",
         "5913002",
         "134287",
         4,
         24,
         7,
         31,
         2,
         17,
         37,
         1,
         11,
         "https://r2.thesportsdb.com/images/media/team/badge/syptwx1473538074.png/tiny",
         "Copa Libertadores",
         "DWWWL",
         "Brazilian Serie A",
         "2025",
         "Flamengo",
         "2025-08-06T17:29:04.308Z",
         "table_2025.json"
        ],
        [
         "2025-08-04 23:00:28",
         "4351",
         "5913003",
         "134294",
         4,
         19,
         11,
         30,
         3,
         18,
         37,
         2,
         11,
         "https://r2.thesportsdb.com/images/media/team/badge/upsvvu1473538059.png/tiny",
         "Copa Libertadores",
         "WLDWW",
         "Brazilian Serie A",
         "2025",
         "Cruzeiro",
         "2025-08-06T17:29:04.308Z",
         "table_2025.json"
        ],
        [
         "2025-08-04 23:00:28",
         "4351",
         "5913004",
         "134465",
         3,
         7,
         14,
         21,
         3,
         16,
         33,
         3,
         10,
         "https://r2.thesportsdb.com/images/media/team/badge/vsqwqp1473538105.png/tiny",
         "Copa Libertadores",
         "DWWWD",
         "Brazilian Serie A",
         "2025",
         "Palmeiras",
         "2025-08-06T17:29:04.308Z",
         "table_2025.json"
        ],
        [
         "2025-08-04 23:00:28",
         "4351",
         "5913005",
         "134293",
         5,
         7,
         13,
         20,
         3,
         16,
         29,
         4,
         8,
         "https://r2.thesportsdb.com/images/media/team/badge/xuvtsv1473539308.png/tiny",
         "Copa Libertadores",
         "DWDWW",
         "Brazilian Serie A",
         "2025",
         "Bahia",
         "2025-08-06T17:29:04.308Z",
         "table_2025.json"
        ],
        [
         "2025-08-04 23:00:28",
         "4351",
         "5913006",
         "141181",
         7,
         11,
         16,
         27,
         2,
         16,
         28,
         5,
         7,
         "https://r2.thesportsdb.com/images/media/team/badge/tfth1h1617198957.png/tiny",
         "Copa Libertadores Qualification",
         "WDWWD",
         "Brazilian Serie A",
         "2025",
         "Mirassol",
         "2025-08-06T17:29:04.308Z",
         "table_2025.json"
        ]
       ],
       "datasetInfos": [
        {
         "name": "_sqldf",
         "schema": {
          "fields": [
           {
            "metadata": {},
            "name": "dateUpdated",
            "nullable": true,
            "type": "string"
           },
           {
            "metadata": {},
            "name": "idLeague",
            "nullable": true,
            "type": "string"
           },
           {
            "metadata": {},
            "name": "idStanding",
            "nullable": true,
            "type": "string"
           },
           {
            "metadata": {},
            "name": "idTeam",
            "nullable": true,
            "type": "string"
           },
           {
            "metadata": {},
            "name": "intDraw",
            "nullable": true,
            "type": "integer"
           },
           {
            "metadata": {},
            "name": "intGoalDifference",
            "nullable": true,
            "type": "integer"
           },
           {
            "metadata": {},
            "name": "intGoalsAgainst",
            "nullable": true,
            "type": "integer"
           },
           {
            "metadata": {},
            "name": "intGoalsFor",
            "nullable": true,
            "type": "integer"
           },
           {
            "metadata": {},
            "name": "intLoss",
            "nullable": true,
            "type": "integer"
           },
           {
            "metadata": {},
            "name": "intPlayed",
            "nullable": true,
            "type": "integer"
           },
           {
            "metadata": {},
            "name": "intPoints",
            "nullable": true,
            "type": "integer"
           },
           {
            "metadata": {},
            "name": "intRank",
            "nullable": true,
            "type": "integer"
           },
           {
            "metadata": {},
            "name": "intWin",
            "nullable": true,
            "type": "integer"
           },
           {
            "metadata": {},
            "name": "strBadge",
            "nullable": true,
            "type": "string"
           },
           {
            "metadata": {},
            "name": "strDescription",
            "nullable": true,
            "type": "string"
           },
           {
            "metadata": {},
            "name": "strForm",
            "nullable": true,
            "type": "string"
           },
           {
            "metadata": {},
            "name": "strLeague",
            "nullable": true,
            "type": "string"
           },
           {
            "metadata": {},
            "name": "strSeason",
            "nullable": true,
            "type": "string"
           },
           {
            "metadata": {},
            "name": "strTeam",
            "nullable": true,
            "type": "string"
           },
           {
            "metadata": {},
            "name": "upload_bronze",
            "nullable": true,
            "type": "timestamp"
           },
           {
            "metadata": {},
            "name": "source",
            "nullable": true,
            "type": "string"
           }
          ],
          "type": "struct"
         },
         "tableIdentifier": null,
         "typeStr": "pyspark.sql.connect.dataframe.DataFrame"
        }
       ],
       "dbfsResultPath": null,
       "isJsonSchema": true,
       "metadata": {
        "createTempViewForImplicitDf": true,
        "dataframeName": "_sqldf",
        "executionCount": 18
       },
       "overflow": false,
       "plotOptions": {
        "customPlotOptions": {},
        "displayType": "table",
        "pivotAggregation": null,
        "pivotColumns": null,
        "xColumns": null,
        "yColumns": null
       },
       "removedWidgets": [],
       "schema": [
        {
         "metadata": "{}",
         "name": "dateUpdated",
         "type": "\"string\""
        },
        {
         "metadata": "{}",
         "name": "idLeague",
         "type": "\"string\""
        },
        {
         "metadata": "{}",
         "name": "idStanding",
         "type": "\"string\""
        },
        {
         "metadata": "{}",
         "name": "idTeam",
         "type": "\"string\""
        },
        {
         "metadata": "{}",
         "name": "intDraw",
         "type": "\"integer\""
        },
        {
         "metadata": "{}",
         "name": "intGoalDifference",
         "type": "\"integer\""
        },
        {
         "metadata": "{}",
         "name": "intGoalsAgainst",
         "type": "\"integer\""
        },
        {
         "metadata": "{}",
         "name": "intGoalsFor",
         "type": "\"integer\""
        },
        {
         "metadata": "{}",
         "name": "intLoss",
         "type": "\"integer\""
        },
        {
         "metadata": "{}",
         "name": "intPlayed",
         "type": "\"integer\""
        },
        {
         "metadata": "{}",
         "name": "intPoints",
         "type": "\"integer\""
        },
        {
         "metadata": "{}",
         "name": "intRank",
         "type": "\"integer\""
        },
        {
         "metadata": "{}",
         "name": "intWin",
         "type": "\"integer\""
        },
        {
         "metadata": "{}",
         "name": "strBadge",
         "type": "\"string\""
        },
        {
         "metadata": "{}",
         "name": "strDescription",
         "type": "\"string\""
        },
        {
         "metadata": "{}",
         "name": "strForm",
         "type": "\"string\""
        },
        {
         "metadata": "{}",
         "name": "strLeague",
         "type": "\"string\""
        },
        {
         "metadata": "{}",
         "name": "strSeason",
         "type": "\"string\""
        },
        {
         "metadata": "{}",
         "name": "strTeam",
         "type": "\"string\""
        },
        {
         "metadata": "{}",
         "name": "upload_bronze",
         "type": "\"timestamp\""
        },
        {
         "metadata": "{}",
         "name": "source",
         "type": "\"string\""
        }
       ],
       "type": "table"
      }
     },
     "output_type": "display_data"
    }
   ],
   "source": [
    "%sql\n",
    "SELECT * FROM brasileirao_medallion.bronze.table_bronze;"
   ]
  },
  {
   "cell_type": "code",
   "execution_count": 0,
   "metadata": {
    "application/vnd.databricks.v1+cell": {
     "cellMetadata": {
      "byteLimit": 2048000,
      "rowLimit": 10000
     },
     "inputWidgets": {},
     "nuid": "58a8f5a9-40c9-4a60-82bb-9f6a9f4246f9",
     "showTitle": false,
     "tableResultSettingsMap": {},
     "title": ""
    }
   },
   "outputs": [],
   "source": []
  }
 ],
 "metadata": {
  "application/vnd.databricks.v1+notebook": {
   "computePreferences": null,
   "dashboards": [],
   "environmentMetadata": {
    "base_environment": "",
    "environment_version": "2"
   },
   "inputWidgetPreferences": null,
   "language": "python",
   "notebookMetadata": {
    "mostRecentlyExecutedCommandWithImplicitDF": {
     "commandId": 5144251980005254,
     "dataframes": [
      "_sqldf"
     ]
    },
    "pythonIndentUnit": 4
   },
   "notebookName": "Data_Ingestion_Bronze",
   "widgets": {}
  },
  "language_info": {
   "name": "python"
  }
 },
 "nbformat": 4,
 "nbformat_minor": 0
}
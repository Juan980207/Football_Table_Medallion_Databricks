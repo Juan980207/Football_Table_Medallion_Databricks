{
 "cells": [
  {
   "cell_type": "code",
   "execution_count": 0,
   "metadata": {
    "application/vnd.databricks.v1+cell": {
     "cellMetadata": {
      "byteLimit": 2048000,
      "implicitDf": true,
      "rowLimit": 10000
     },
     "inputWidgets": {},
     "nuid": "8106cc40-df06-46f7-bd70-b46a96536d41",
     "showTitle": false,
     "tableResultSettingsMap": {},
     "title": ""
    }
   },
   "outputs": [],
   "source": [
    "%sql\n",
    "CREATE SCHEMA IF NOT EXISTS\n",
    "brasileirao_medallion.silver;"
   ]
  },
  {
   "cell_type": "code",
   "execution_count": 0,
   "metadata": {
    "application/vnd.databricks.v1+cell": {
     "cellMetadata": {
      "byteLimit": 2048000,
      "rowLimit": 10000
     },
     "inputWidgets": {},
     "nuid": "a8186ad2-3e0a-4f76-ad08-9ca86702af51",
     "showTitle": false,
     "tableResultSettingsMap": {},
     "title": ""
    }
   },
   "outputs": [],
   "source": [
    "from pyspark.sql import functions as F\n",
    "from pyspark.sql.types import StructType, StructField, StringType, IntegerType, DoubleType, DateType\n",
    "from pyspark.sql.functions import sha2, substring\n",
    "from delta.tables import DeltaTable"
   ]
  },
  {
   "cell_type": "code",
   "execution_count": 0,
   "metadata": {
    "application/vnd.databricks.v1+cell": {
     "cellMetadata": {
      "byteLimit": 2048000,
      "implicitDf": true,
      "rowLimit": 10000
     },
     "inputWidgets": {},
     "nuid": "93ae74d4-d649-41b3-857e-28d4f989ec98",
     "showTitle": false,
     "tableResultSettingsMap": {},
     "title": ""
    }
   },
   "outputs": [
    {
     "output_type": "display_data",
     "data": {
      "text/html": [
       "<style scoped>\n",
       "  .table-result-container {\n",
       "    max-height: 300px;\n",
       "    overflow: auto;\n",
       "  }\n",
       "  table, th, td {\n",
       "    border: 1px solid black;\n",
       "    border-collapse: collapse;\n",
       "  }\n",
       "  th, td {\n",
       "    padding: 5px;\n",
       "  }\n",
       "  th {\n",
       "    text-align: left;\n",
       "  }\n",
       "</style><div class='table-result-container'><table class='table-result'><thead style='background-color: white'><tr><th>dateUpdated</th><th>idLeague</th><th>idStanding</th><th>idTeam</th><th>intDraw</th><th>intGoalDifference</th><th>intGoalsAgainst</th><th>intGoalsFor</th><th>intLoss</th><th>intPlayed</th><th>intPoints</th><th>intRank</th><th>intWin</th><th>strBadge</th><th>strDescription</th><th>strForm</th><th>strLeague</th><th>strSeason</th><th>strTeam</th><th>upload_bronze</th><th>source</th></tr></thead><tbody><tr><td>2025-08-04 23:00:28</td><td>4351</td><td>5913002</td><td>134287</td><td>4</td><td>24</td><td>7</td><td>31</td><td>2</td><td>17</td><td>37</td><td>1</td><td>11</td><td>https://r2.thesportsdb.com/images/media/team/badge/syptwx1473538074.png/tiny</td><td>Copa Libertadores</td><td>DWWWL</td><td>Brazilian Serie A</td><td>2025</td><td>Flamengo</td><td>2025-08-06T17:29:04.308Z</td><td>table_2025.json</td></tr><tr><td>2025-08-04 23:00:28</td><td>4351</td><td>5913003</td><td>134294</td><td>4</td><td>19</td><td>11</td><td>30</td><td>3</td><td>18</td><td>37</td><td>2</td><td>11</td><td>https://r2.thesportsdb.com/images/media/team/badge/upsvvu1473538059.png/tiny</td><td>Copa Libertadores</td><td>WLDWW</td><td>Brazilian Serie A</td><td>2025</td><td>Cruzeiro</td><td>2025-08-06T17:29:04.308Z</td><td>table_2025.json</td></tr><tr><td>2025-08-04 23:00:28</td><td>4351</td><td>5913004</td><td>134465</td><td>3</td><td>7</td><td>14</td><td>21</td><td>3</td><td>16</td><td>33</td><td>3</td><td>10</td><td>https://r2.thesportsdb.com/images/media/team/badge/vsqwqp1473538105.png/tiny</td><td>Copa Libertadores</td><td>DWWWD</td><td>Brazilian Serie A</td><td>2025</td><td>Palmeiras</td><td>2025-08-06T17:29:04.308Z</td><td>table_2025.json</td></tr><tr><td>2025-08-04 23:00:28</td><td>4351</td><td>5913005</td><td>134293</td><td>5</td><td>7</td><td>13</td><td>20</td><td>3</td><td>16</td><td>29</td><td>4</td><td>8</td><td>https://r2.thesportsdb.com/images/media/team/badge/xuvtsv1473539308.png/tiny</td><td>Copa Libertadores</td><td>DWDWW</td><td>Brazilian Serie A</td><td>2025</td><td>Bahia</td><td>2025-08-06T17:29:04.308Z</td><td>table_2025.json</td></tr><tr><td>2025-08-04 23:00:28</td><td>4351</td><td>5913006</td><td>141181</td><td>7</td><td>11</td><td>16</td><td>27</td><td>2</td><td>16</td><td>28</td><td>5</td><td>7</td><td>https://r2.thesportsdb.com/images/media/team/badge/tfth1h1617198957.png/tiny</td><td>Copa Libertadores Qualification</td><td>WDWWD</td><td>Brazilian Serie A</td><td>2025</td><td>Mirassol</td><td>2025-08-06T17:29:04.308Z</td><td>table_2025.json</td></tr></tbody></table></div>"
      ]
     },
     "metadata": {
      "application/vnd.databricks.v1+output": {
       "addedWidgets": {},
       "aggData": [],
       "aggError": "",
       "aggOverflow": false,
       "aggSchema": [],
       "aggSeriesLimitReached": false,
       "aggType": "",
       "arguments": {},
       "columnCustomDisplayInfos": {},
       "data": [
        [
         "2025-08-04 23:00:28",
         "4351",
         "5913002",
         "134287",
         4,
         24,
         7,
         31,
         2,
         17,
         37,
         1,
         11,
         "https://r2.thesportsdb.com/images/media/team/badge/syptwx1473538074.png/tiny",
         "Copa Libertadores",
         "DWWWL",
         "Brazilian Serie A",
         "2025",
         "Flamengo",
         "2025-08-06T17:29:04.308Z",
         "table_2025.json"
        ],
        [
         "2025-08-04 23:00:28",
         "4351",
         "5913003",
         "134294",
         4,
         19,
         11,
         30,
         3,
         18,
         37,
         2,
         11,
         "https://r2.thesportsdb.com/images/media/team/badge/upsvvu1473538059.png/tiny",
         "Copa Libertadores",
         "WLDWW",
         "Brazilian Serie A",
         "2025",
         "Cruzeiro",
         "2025-08-06T17:29:04.308Z",
         "table_2025.json"
        ],
        [
         "2025-08-04 23:00:28",
         "4351",
         "5913004",
         "134465",
         3,
         7,
         14,
         21,
         3,
         16,
         33,
         3,
         10,
         "https://r2.thesportsdb.com/images/media/team/badge/vsqwqp1473538105.png/tiny",
         "Copa Libertadores",
         "DWWWD",
         "Brazilian Serie A",
         "2025",
         "Palmeiras",
         "2025-08-06T17:29:04.308Z",
         "table_2025.json"
        ],
        [
         "2025-08-04 23:00:28",
         "4351",
         "5913005",
         "134293",
         5,
         7,
         13,
         20,
         3,
         16,
         29,
         4,
         8,
         "https://r2.thesportsdb.com/images/media/team/badge/xuvtsv1473539308.png/tiny",
         "Copa Libertadores",
         "DWDWW",
         "Brazilian Serie A",
         "2025",
         "Bahia",
         "2025-08-06T17:29:04.308Z",
         "table_2025.json"
        ],
        [
         "2025-08-04 23:00:28",
         "4351",
         "5913006",
         "141181",
         7,
         11,
         16,
         27,
         2,
         16,
         28,
         5,
         7,
         "https://r2.thesportsdb.com/images/media/team/badge/tfth1h1617198957.png/tiny",
         "Copa Libertadores Qualification",
         "WDWWD",
         "Brazilian Serie A",
         "2025",
         "Mirassol",
         "2025-08-06T17:29:04.308Z",
         "table_2025.json"
        ]
       ],
       "datasetInfos": [
        {
         "name": "_sqldf",
         "schema": {
          "fields": [
           {
            "metadata": {},
            "name": "dateUpdated",
            "nullable": true,
            "type": "string"
           },
           {
            "metadata": {},
            "name": "idLeague",
            "nullable": true,
            "type": "string"
           },
           {
            "metadata": {},
            "name": "idStanding",
            "nullable": true,
            "type": "string"
           },
           {
            "metadata": {},
            "name": "idTeam",
            "nullable": true,
            "type": "string"
           },
           {
            "metadata": {},
            "name": "intDraw",
            "nullable": true,
            "type": "integer"
           },
           {
            "metadata": {},
            "name": "intGoalDifference",
            "nullable": true,
            "type": "integer"
           },
           {
            "metadata": {},
            "name": "intGoalsAgainst",
            "nullable": true,
            "type": "integer"
           },
           {
            "metadata": {},
            "name": "intGoalsFor",
            "nullable": true,
            "type": "integer"
           },
           {
            "metadata": {},
            "name": "intLoss",
            "nullable": true,
            "type": "integer"
           },
           {
            "metadata": {},
            "name": "intPlayed",
            "nullable": true,
            "type": "integer"
           },
           {
            "metadata": {},
            "name": "intPoints",
            "nullable": true,
            "type": "integer"
           },
           {
            "metadata": {},
            "name": "intRank",
            "nullable": true,
            "type": "integer"
           },
           {
            "metadata": {},
            "name": "intWin",
            "nullable": true,
            "type": "integer"
           },
           {
            "metadata": {},
            "name": "strBadge",
            "nullable": true,
            "type": "string"
           },
           {
            "metadata": {},
            "name": "strDescription",
            "nullable": true,
            "type": "string"
           },
           {
            "metadata": {},
            "name": "strForm",
            "nullable": true,
            "type": "string"
           },
           {
            "metadata": {},
            "name": "strLeague",
            "nullable": true,
            "type": "string"
           },
           {
            "metadata": {},
            "name": "strSeason",
            "nullable": true,
            "type": "string"
           },
           {
            "metadata": {},
            "name": "strTeam",
            "nullable": true,
            "type": "string"
           },
           {
            "metadata": {},
            "name": "upload_bronze",
            "nullable": true,
            "type": "timestamp"
           },
           {
            "metadata": {},
            "name": "source",
            "nullable": true,
            "type": "string"
           }
          ],
          "type": "struct"
         },
         "tableIdentifier": null,
         "typeStr": "pyspark.sql.connect.dataframe.DataFrame"
        }
       ],
       "dbfsResultPath": null,
       "isJsonSchema": true,
       "metadata": {
        "createTempViewForImplicitDf": true,
        "dataframeName": "_sqldf",
        "executionCount": 4
       },
       "overflow": false,
       "plotOptions": {
        "customPlotOptions": {},
        "displayType": "table",
        "pivotAggregation": null,
        "pivotColumns": null,
        "xColumns": null,
        "yColumns": null
       },
       "removedWidgets": [],
       "schema": [
        {
         "metadata": "{}",
         "name": "dateUpdated",
         "type": "\"string\""
        },
        {
         "metadata": "{}",
         "name": "idLeague",
         "type": "\"string\""
        },
        {
         "metadata": "{}",
         "name": "idStanding",
         "type": "\"string\""
        },
        {
         "metadata": "{}",
         "name": "idTeam",
         "type": "\"string\""
        },
        {
         "metadata": "{}",
         "name": "intDraw",
         "type": "\"integer\""
        },
        {
         "metadata": "{}",
         "name": "intGoalDifference",
         "type": "\"integer\""
        },
        {
         "metadata": "{}",
         "name": "intGoalsAgainst",
         "type": "\"integer\""
        },
        {
         "metadata": "{}",
         "name": "intGoalsFor",
         "type": "\"integer\""
        },
        {
         "metadata": "{}",
         "name": "intLoss",
         "type": "\"integer\""
        },
        {
         "metadata": "{}",
         "name": "intPlayed",
         "type": "\"integer\""
        },
        {
         "metadata": "{}",
         "name": "intPoints",
         "type": "\"integer\""
        },
        {
         "metadata": "{}",
         "name": "intRank",
         "type": "\"integer\""
        },
        {
         "metadata": "{}",
         "name": "intWin",
         "type": "\"integer\""
        },
        {
         "metadata": "{}",
         "name": "strBadge",
         "type": "\"string\""
        },
        {
         "metadata": "{}",
         "name": "strDescription",
         "type": "\"string\""
        },
        {
         "metadata": "{}",
         "name": "strForm",
         "type": "\"string\""
        },
        {
         "metadata": "{}",
         "name": "strLeague",
         "type": "\"string\""
        },
        {
         "metadata": "{}",
         "name": "strSeason",
         "type": "\"string\""
        },
        {
         "metadata": "{}",
         "name": "strTeam",
         "type": "\"string\""
        },
        {
         "metadata": "{}",
         "name": "upload_bronze",
         "type": "\"timestamp\""
        },
        {
         "metadata": "{}",
         "name": "source",
         "type": "\"string\""
        }
       ],
       "type": "table"
      }
     },
     "output_type": "display_data"
    }
   ],
   "source": [
    "%sql\n",
    "SELECT * FROM brasileirao_medallion.bronze.table_bronze\n",
    "LIMIT 5;"
   ]
  },
  {
   "cell_type": "code",
   "execution_count": 0,
   "metadata": {
    "application/vnd.databricks.v1+cell": {
     "cellMetadata": {
      "byteLimit": 2048000,
      "rowLimit": 10000
     },
     "inputWidgets": {},
     "nuid": "cc307d42-eab2-4062-b0ea-9e1663d4609e",
     "showTitle": false,
     "tableResultSettingsMap": {},
     "title": ""
    }
   },
   "outputs": [],
   "source": [
    "schema_table=StructType([\n",
    "  StructField('dateUpdated', DateType(), True),\n",
    "  StructField('idLeague', IntegerType(), True),\n",
    "  StructField('idStanding', IntegerType(), True),\n",
    "  StructField('idTeam', IntegerType(), True),\n",
    "  StructField('intDraw', IntegerType(), True),\n",
    "  StructField('intGoalDifference', IntegerType(), True),\n",
    "  StructField('intGoalsAgainst', IntegerType(), True),\n",
    "  StructField('intGoalsFor', IntegerType(), True),\n",
    "  StructField('intLoss', IntegerType(), True),\n",
    "  StructField('intPlayed', IntegerType(), True),\n",
    "  StructField('intPoints', IntegerType(), True),\n",
    "  StructField('intRank', IntegerType(), True),\n",
    "  StructField('intWin', IntegerType(), True),\n",
    "  StructField('strBadge', StringType(), True),\n",
    "  StructField('strDescription', StringType(), True),\n",
    "  StructField('strForm', StringType(), True),\n",
    "  StructField('strLeague', StringType(), True),\n",
    "  StructField('strSeason', StringType(), True),\n",
    "  StructField('strTeam', StringType(), True),\n",
    "  StructField('upload_bronze', DateType(), True),\n",
    "  StructField('source', StringType(), True)])"
   ]
  },
  {
   "cell_type": "code",
   "execution_count": 0,
   "metadata": {
    "application/vnd.databricks.v1+cell": {
     "cellMetadata": {
      "byteLimit": 2048000,
      "rowLimit": 10000
     },
     "inputWidgets": {},
     "nuid": "60320f25-755a-4c38-9507-c9d397e2a47c",
     "showTitle": false,
     "tableResultSettingsMap": {},
     "title": ""
    }
   },
   "outputs": [
    {
     "output_type": "display_data",
     "data": {
      "text/html": [
       "<style scoped>\n",
       "  .table-result-container {\n",
       "    max-height: 300px;\n",
       "    overflow: auto;\n",
       "  }\n",
       "  table, th, td {\n",
       "    border: 1px solid black;\n",
       "    border-collapse: collapse;\n",
       "  }\n",
       "  th, td {\n",
       "    padding: 5px;\n",
       "  }\n",
       "  th {\n",
       "    text-align: left;\n",
       "  }\n",
       "</style><div class='table-result-container'><table class='table-result'><thead style='background-color: white'><tr><th>dateUpdated</th><th>idLeague</th><th>idStanding</th><th>idTeam</th><th>intDraw</th><th>intGoalDifference</th><th>intGoalsAgainst</th><th>intGoalsFor</th><th>intLoss</th><th>intPlayed</th><th>intPoints</th><th>intRank</th><th>intWin</th><th>strBadge</th><th>strDescription</th><th>strForm</th><th>strLeague</th><th>strSeason</th><th>strTeam</th><th>upload_bronze</th><th>source</th></tr></thead><tbody><tr><td>2025-08-04 23:00:28</td><td>4351</td><td>5913002</td><td>134287</td><td>4</td><td>24</td><td>7</td><td>31</td><td>2</td><td>17</td><td>37</td><td>1</td><td>11</td><td>https://r2.thesportsdb.com/images/media/team/badge/syptwx1473538074.png/tiny</td><td>Copa Libertadores</td><td>DWWWL</td><td>Brazilian Serie A</td><td>2025</td><td>Flamengo</td><td>2025-08-06T17:29:04.308Z</td><td>table_2025.json</td></tr><tr><td>2025-08-04 23:00:28</td><td>4351</td><td>5913003</td><td>134294</td><td>4</td><td>19</td><td>11</td><td>30</td><td>3</td><td>18</td><td>37</td><td>2</td><td>11</td><td>https://r2.thesportsdb.com/images/media/team/badge/upsvvu1473538059.png/tiny</td><td>Copa Libertadores</td><td>WLDWW</td><td>Brazilian Serie A</td><td>2025</td><td>Cruzeiro</td><td>2025-08-06T17:29:04.308Z</td><td>table_2025.json</td></tr><tr><td>2025-08-04 23:00:28</td><td>4351</td><td>5913004</td><td>134465</td><td>3</td><td>7</td><td>14</td><td>21</td><td>3</td><td>16</td><td>33</td><td>3</td><td>10</td><td>https://r2.thesportsdb.com/images/media/team/badge/vsqwqp1473538105.png/tiny</td><td>Copa Libertadores</td><td>DWWWD</td><td>Brazilian Serie A</td><td>2025</td><td>Palmeiras</td><td>2025-08-06T17:29:04.308Z</td><td>table_2025.json</td></tr><tr><td>2025-08-04 23:00:28</td><td>4351</td><td>5913005</td><td>134293</td><td>5</td><td>7</td><td>13</td><td>20</td><td>3</td><td>16</td><td>29</td><td>4</td><td>8</td><td>https://r2.thesportsdb.com/images/media/team/badge/xuvtsv1473539308.png/tiny</td><td>Copa Libertadores</td><td>DWDWW</td><td>Brazilian Serie A</td><td>2025</td><td>Bahia</td><td>2025-08-06T17:29:04.308Z</td><td>table_2025.json</td></tr><tr><td>2025-08-04 23:00:28</td><td>4351</td><td>5913006</td><td>141181</td><td>7</td><td>11</td><td>16</td><td>27</td><td>2</td><td>16</td><td>28</td><td>5</td><td>7</td><td>https://r2.thesportsdb.com/images/media/team/badge/tfth1h1617198957.png/tiny</td><td>Copa Libertadores Qualification</td><td>WDWWD</td><td>Brazilian Serie A</td><td>2025</td><td>Mirassol</td><td>2025-08-06T17:29:04.308Z</td><td>table_2025.json</td></tr></tbody></table></div>"
      ]
     },
     "metadata": {
      "application/vnd.databricks.v1+output": {
       "addedWidgets": {},
       "aggData": [],
       "aggError": "",
       "aggOverflow": false,
       "aggSchema": [],
       "aggSeriesLimitReached": false,
       "aggType": "",
       "arguments": {},
       "columnCustomDisplayInfos": {},
       "data": [
        [
         "2025-08-04 23:00:28",
         "4351",
         "5913002",
         "134287",
         4,
         24,
         7,
         31,
         2,
         17,
         37,
         1,
         11,
         "https://r2.thesportsdb.com/images/media/team/badge/syptwx1473538074.png/tiny",
         "Copa Libertadores",
         "DWWWL",
         "Brazilian Serie A",
         "2025",
         "Flamengo",
         "2025-08-06T17:29:04.308Z",
         "table_2025.json"
        ],
        [
         "2025-08-04 23:00:28",
         "4351",
         "5913003",
         "134294",
         4,
         19,
         11,
         30,
         3,
         18,
         37,
         2,
         11,
         "https://r2.thesportsdb.com/images/media/team/badge/upsvvu1473538059.png/tiny",
         "Copa Libertadores",
         "WLDWW",
         "Brazilian Serie A",
         "2025",
         "Cruzeiro",
         "2025-08-06T17:29:04.308Z",
         "table_2025.json"
        ],
        [
         "2025-08-04 23:00:28",
         "4351",
         "5913004",
         "134465",
         3,
         7,
         14,
         21,
         3,
         16,
         33,
         3,
         10,
         "https://r2.thesportsdb.com/images/media/team/badge/vsqwqp1473538105.png/tiny",
         "Copa Libertadores",
         "DWWWD",
         "Brazilian Serie A",
         "2025",
         "Palmeiras",
         "2025-08-06T17:29:04.308Z",
         "table_2025.json"
        ],
        [
         "2025-08-04 23:00:28",
         "4351",
         "5913005",
         "134293",
         5,
         7,
         13,
         20,
         3,
         16,
         29,
         4,
         8,
         "https://r2.thesportsdb.com/images/media/team/badge/xuvtsv1473539308.png/tiny",
         "Copa Libertadores",
         "DWDWW",
         "Brazilian Serie A",
         "2025",
         "Bahia",
         "2025-08-06T17:29:04.308Z",
         "table_2025.json"
        ],
        [
         "2025-08-04 23:00:28",
         "4351",
         "5913006",
         "141181",
         7,
         11,
         16,
         27,
         2,
         16,
         28,
         5,
         7,
         "https://r2.thesportsdb.com/images/media/team/badge/tfth1h1617198957.png/tiny",
         "Copa Libertadores Qualification",
         "WDWWD",
         "Brazilian Serie A",
         "2025",
         "Mirassol",
         "2025-08-06T17:29:04.308Z",
         "table_2025.json"
        ]
       ],
       "datasetInfos": [],
       "dbfsResultPath": null,
       "isJsonSchema": true,
       "metadata": {},
       "overflow": false,
       "plotOptions": {
        "customPlotOptions": {},
        "displayType": "table",
        "pivotAggregation": null,
        "pivotColumns": null,
        "xColumns": null,
        "yColumns": null
       },
       "removedWidgets": [],
       "schema": [
        {
         "metadata": "{}",
         "name": "dateUpdated",
         "type": "\"string\""
        },
        {
         "metadata": "{}",
         "name": "idLeague",
         "type": "\"string\""
        },
        {
         "metadata": "{}",
         "name": "idStanding",
         "type": "\"string\""
        },
        {
         "metadata": "{}",
         "name": "idTeam",
         "type": "\"string\""
        },
        {
         "metadata": "{}",
         "name": "intDraw",
         "type": "\"integer\""
        },
        {
         "metadata": "{}",
         "name": "intGoalDifference",
         "type": "\"integer\""
        },
        {
         "metadata": "{}",
         "name": "intGoalsAgainst",
         "type": "\"integer\""
        },
        {
         "metadata": "{}",
         "name": "intGoalsFor",
         "type": "\"integer\""
        },
        {
         "metadata": "{}",
         "name": "intLoss",
         "type": "\"integer\""
        },
        {
         "metadata": "{}",
         "name": "intPlayed",
         "type": "\"integer\""
        },
        {
         "metadata": "{}",
         "name": "intPoints",
         "type": "\"integer\""
        },
        {
         "metadata": "{}",
         "name": "intRank",
         "type": "\"integer\""
        },
        {
         "metadata": "{}",
         "name": "intWin",
         "type": "\"integer\""
        },
        {
         "metadata": "{}",
         "name": "strBadge",
         "type": "\"string\""
        },
        {
         "metadata": "{}",
         "name": "strDescription",
         "type": "\"string\""
        },
        {
         "metadata": "{}",
         "name": "strForm",
         "type": "\"string\""
        },
        {
         "metadata": "{}",
         "name": "strLeague",
         "type": "\"string\""
        },
        {
         "metadata": "{}",
         "name": "strSeason",
         "type": "\"string\""
        },
        {
         "metadata": "{}",
         "name": "strTeam",
         "type": "\"string\""
        },
        {
         "metadata": "{}",
         "name": "upload_bronze",
         "type": "\"timestamp\""
        },
        {
         "metadata": "{}",
         "name": "source",
         "type": "\"string\""
        }
       ],
       "type": "table"
      }
     },
     "output_type": "display_data"
    }
   ],
   "source": [
    "tabla=spark.read.table('brasileirao_medallion.bronze.table_bronze')\n",
    "display(tabla)"
   ]
  },
  {
   "cell_type": "code",
   "execution_count": 0,
   "metadata": {
    "application/vnd.databricks.v1+cell": {
     "cellMetadata": {
      "byteLimit": 2048000,
      "rowLimit": 10000
     },
     "inputWidgets": {},
     "nuid": "af9cf475-ccc6-44da-a74e-85d5e38f36c6",
     "showTitle": false,
     "tableResultSettingsMap": {},
     "title": ""
    }
   },
   "outputs": [],
   "source": [
    "tabla=tabla.withColumn('dateUpdated', F.substring('dateUpdated', 1, 10))\n",
    "tabla=tabla.withColumn('dateUpdated', F.to_date(F.col('upload_bronze')))\n",
    "tabla=tabla.withColumn('upload_bronze', F.to_timestamp(F.col('upload_bronze')))\n",
    "tabla=tabla.withColumn('idLeague', F.col('idLeague').cast('integer'))\n",
    "tabla=tabla.withColumn('idStanding', F.col('idStanding').cast('integer'))\n",
    "tabla=tabla.withColumn('idTeam', F.col('idTeam').cast('integer'))\n",
    "tabla=tabla.withColumn('strSeason', F.col('strSeason').cast('string'))"
   ]
  },
  {
   "cell_type": "code",
   "execution_count": 0,
   "metadata": {
    "application/vnd.databricks.v1+cell": {
     "cellMetadata": {
      "byteLimit": 2048000,
      "rowLimit": 10000
     },
     "inputWidgets": {},
     "nuid": "0ceab37b-94a0-4ab7-8622-6eb89154f6ca",
     "showTitle": false,
     "tableResultSettingsMap": {},
     "title": ""
    }
   },
   "outputs": [
    {
     "output_type": "stream",
     "name": "stdout",
     "output_type": "stream",
     "text": [
      "+-----------+--------+----------+------+-------+-----------------+---------------+-----------+-------+---------+---------+-------+------+--------------------+--------------------+-------+-----------------+---------+---------+--------------------+---------------+\n|dateUpdated|idLeague|idStanding|idTeam|intDraw|intGoalDifference|intGoalsAgainst|intGoalsFor|intLoss|intPlayed|intPoints|intRank|intWin|            strBadge|      strDescription|strForm|        strLeague|strSeason|  strTeam|       upload_bronze|         source|\n+-----------+--------+----------+------+-------+-----------------+---------------+-----------+-------+---------+---------+-------+------+--------------------+--------------------+-------+-----------------+---------+---------+--------------------+---------------+\n| 2025-08-06|    4351|   5913002|134287|      4|               24|              7|         31|      2|       17|       37|      1|    11|https://r2.thespo...|   Copa Libertadores|  DWWWL|Brazilian Serie A|     2025| Flamengo|2025-08-06 17:29:...|table_2025.json|\n| 2025-08-06|    4351|   5913003|134294|      4|               19|             11|         30|      3|       18|       37|      2|    11|https://r2.thespo...|   Copa Libertadores|  WLDWW|Brazilian Serie A|     2025| Cruzeiro|2025-08-06 17:29:...|table_2025.json|\n| 2025-08-06|    4351|   5913004|134465|      3|                7|             14|         21|      3|       16|       33|      3|    10|https://r2.thespo...|   Copa Libertadores|  DWWWD|Brazilian Serie A|     2025|Palmeiras|2025-08-06 17:29:...|table_2025.json|\n| 2025-08-06|    4351|   5913005|134293|      5|                7|             13|         20|      3|       16|       29|      4|     8|https://r2.thespo...|   Copa Libertadores|  DWDWW|Brazilian Serie A|     2025|    Bahia|2025-08-06 17:29:...|table_2025.json|\n| 2025-08-06|    4351|   5913006|141181|      7|               11|             16|         27|      2|       16|       28|      5|     7|https://r2.thespo...|Copa Libertadores...|  WDWWD|Brazilian Serie A|     2025| Mirassol|2025-08-06 17:29:...|table_2025.json|\n+-----------+--------+----------+------+-------+-----------------+---------------+-----------+-------+---------+---------+-------+------+--------------------+--------------------+-------+-----------------+---------+---------+--------------------+---------------+\n\n"
     ]
    }
   ],
   "source": [
    "tabla.show()"
   ]
  },
  {
   "cell_type": "code",
   "execution_count": 0,
   "metadata": {
    "application/vnd.databricks.v1+cell": {
     "cellMetadata": {
      "byteLimit": 2048000,
      "rowLimit": 10000
     },
     "inputWidgets": {},
     "nuid": "79153402-bc7b-45d1-b121-eb21cb7b82ef",
     "showTitle": false,
     "tableResultSettingsMap": {},
     "title": ""
    }
   },
   "outputs": [
    {
     "output_type": "stream",
     "name": "stdout",
     "output_type": "stream",
     "text": [
      "root\n |-- dateUpdated: date (nullable = true)\n |-- idLeague: integer (nullable = true)\n |-- idStanding: integer (nullable = true)\n |-- idTeam: integer (nullable = true)\n |-- intDraw: integer (nullable = true)\n |-- intGoalDifference: integer (nullable = true)\n |-- intGoalsAgainst: integer (nullable = true)\n |-- intGoalsFor: integer (nullable = true)\n |-- intLoss: integer (nullable = true)\n |-- intPlayed: integer (nullable = true)\n |-- intPoints: integer (nullable = true)\n |-- intRank: integer (nullable = true)\n |-- intWin: integer (nullable = true)\n |-- strBadge: string (nullable = true)\n |-- strDescription: string (nullable = true)\n |-- strForm: string (nullable = true)\n |-- strLeague: string (nullable = true)\n |-- strSeason: string (nullable = true)\n |-- strTeam: string (nullable = true)\n |-- upload_bronze: timestamp (nullable = true)\n |-- source: string (nullable = true)\n\n"
     ]
    }
   ],
   "source": [
    "tabla.printSchema()"
   ]
  },
  {
   "cell_type": "markdown",
   "metadata": {
    "application/vnd.databricks.v1+cell": {
     "cellMetadata": {
      "byteLimit": 2048000,
      "rowLimit": 10000
     },
     "inputWidgets": {},
     "nuid": "62788609-26ae-4d21-91b9-26d261963d87",
     "showTitle": false,
     "tableResultSettingsMap": {},
     "title": ""
    }
   },
   "source": [
    "Dimensiones a crear\n",
    "- Ligas: idleague,strleague\n",
    "- teams: idteam,strteam,strbadge\n",
    "- favts: idleague,idteam,dateupdated, intDraw,intGoalDifference,intGoalsAgainst,infGoalsFor,intLoss,intPlayed,intPoints,intRank,intWins,strSeason"
   ]
  },
  {
   "cell_type": "code",
   "execution_count": 0,
   "metadata": {
    "application/vnd.databricks.v1+cell": {
     "cellMetadata": {
      "byteLimit": 2048000,
      "implicitDf": true,
      "rowLimit": 10000
     },
     "inputWidgets": {},
     "nuid": "8146dc3c-7426-4728-b8b8-6df30bff6641",
     "showTitle": false,
     "tableResultSettingsMap": {},
     "title": ""
    }
   },
   "outputs": [],
   "source": [
    "%sql\n",
    "CREATE TABLE IF NOT EXISTS brasileirao_medallion.silver.dim_leagues_silver (\n",
    "  idLeague integer PRIMARY KEY,\n",
    "  strLeague string,\n",
    "  upload_silver date,\n",
    "  hash_value string\n",
    ")\n",
    "USING DELTA;"
   ]
  },
  {
   "cell_type": "code",
   "execution_count": 0,
   "metadata": {
    "application/vnd.databricks.v1+cell": {
     "cellMetadata": {
      "byteLimit": 2048000,
      "rowLimit": 10000
     },
     "inputWidgets": {},
     "nuid": "3be02ef2-a1f3-44de-953d-00646f69c228",
     "showTitle": false,
     "tableResultSettingsMap": {},
     "title": ""
    }
   },
   "outputs": [],
   "source": [
    "tabla_league=DeltaTable.forName(spark,'brasileirao_medallion.silver.dim_leagues_silver')"
   ]
  },
  {
   "cell_type": "code",
   "execution_count": 0,
   "metadata": {
    "application/vnd.databricks.v1+cell": {
     "cellMetadata": {
      "byteLimit": 2048000,
      "rowLimit": 10000
     },
     "inputWidgets": {},
     "nuid": "409e99db-d895-4895-9d75-7fa642caf35f",
     "showTitle": false,
     "tableResultSettingsMap": {},
     "title": ""
    }
   },
   "outputs": [
    {
     "output_type": "display_data",
     "data": {
      "text/html": [
       "<style scoped>\n",
       "  .table-result-container {\n",
       "    max-height: 300px;\n",
       "    overflow: auto;\n",
       "  }\n",
       "  table, th, td {\n",
       "    border: 1px solid black;\n",
       "    border-collapse: collapse;\n",
       "  }\n",
       "  th, td {\n",
       "    padding: 5px;\n",
       "  }\n",
       "  th {\n",
       "    text-align: left;\n",
       "  }\n",
       "</style><div class='table-result-container'><table class='table-result'><thead style='background-color: white'><tr><th>idLeague</th><th>strLeague</th><th>hash_value</th><th>upload_silver</th></tr></thead><tbody><tr><td>4351</td><td>Brazilian Serie A</td><td>456e108fbb2c66b42e4f6be6a1e47de74e0424d033620ccf85994b87155f1ddc</td><td>2025-08-06T17:31:11.633Z</td></tr></tbody></table></div>"
      ]
     },
     "metadata": {
      "application/vnd.databricks.v1+output": {
       "addedWidgets": {},
       "aggData": [],
       "aggError": "",
       "aggOverflow": false,
       "aggSchema": [],
       "aggSeriesLimitReached": false,
       "aggType": "",
       "arguments": {},
       "columnCustomDisplayInfos": {},
       "data": [
        [
         4351,
         "Brazilian Serie A",
         "456e108fbb2c66b42e4f6be6a1e47de74e0424d033620ccf85994b87155f1ddc",
         "2025-08-06T17:31:11.633Z"
        ]
       ],
       "datasetInfos": [],
       "dbfsResultPath": null,
       "isJsonSchema": true,
       "metadata": {},
       "overflow": false,
       "plotOptions": {
        "customPlotOptions": {},
        "displayType": "table",
        "pivotAggregation": null,
        "pivotColumns": null,
        "xColumns": null,
        "yColumns": null
       },
       "removedWidgets": [],
       "schema": [
        {
         "metadata": "{}",
         "name": "idLeague",
         "type": "\"integer\""
        },
        {
         "metadata": "{}",
         "name": "strLeague",
         "type": "\"string\""
        },
        {
         "metadata": "{}",
         "name": "hash_value",
         "type": "\"string\""
        },
        {
         "metadata": "{}",
         "name": "upload_silver",
         "type": "\"timestamp\""
        }
       ],
       "type": "table"
      }
     },
     "output_type": "display_data"
    }
   ],
   "source": [
    "tabla_league_source=tabla.select(F.col('idLeague'),F.col('strLeague')).dropDuplicates()\n",
    "tabla_league_source=tabla_league_source.withColumn('hash_value',sha2(F.concat(F.col('idLeague'),F.col('strLeague')),256))\n",
    "tabla_league_source=tabla_league_source.withColumn('upload_silver',F.current_timestamp())\n",
    "display(tabla_league_source)"
   ]
  },
  {
   "cell_type": "code",
   "execution_count": 0,
   "metadata": {
    "application/vnd.databricks.v1+cell": {
     "cellMetadata": {
      "byteLimit": 2048000,
      "rowLimit": 10000
     },
     "inputWidgets": {},
     "nuid": "2d2127ea-4de0-40fa-b911-897255c9cca3",
     "showTitle": false,
     "tableResultSettingsMap": {},
     "title": ""
    }
   },
   "outputs": [],
   "source": [
    "def merge_source_target(target,source,rule,update):\n",
    "    target.alias(\"target\").merge(source.alias(\"source\"), rule).whenMatchedUpdate(set = update).whenNotMatchedInsert(values = update).execute()"
   ]
  },
  {
   "cell_type": "code",
   "execution_count": 0,
   "metadata": {
    "application/vnd.databricks.v1+cell": {
     "cellMetadata": {
      "byteLimit": 2048000,
      "rowLimit": 10000
     },
     "inputWidgets": {},
     "nuid": "45df3bc9-8033-448b-ba40-0d841de2e779",
     "showTitle": false,
     "tableResultSettingsMap": {},
     "title": ""
    }
   },
   "outputs": [
    {
     "output_type": "execute_result",
     "data": {
      "text/plain": [
       "DataFrame[num_affected_rows: bigint, num_updated_rows: bigint, num_deleted_rows: bigint, num_inserted_rows: bigint]"
      ]
     },
     "execution_count": 14,
     "metadata": {},
     "output_type": "execute_result"
    }
   ],
   "source": [
    "tabla_league.alias(\"target\").merge(tabla_league_source.alias(\"source\"), 'source.idLeague = target.idLeague').whenMatchedUpdate(condition=\"target.hash_value != source.hash_value\", set = {\"hash_value\": \"source.hash_value\", \"upload_silver\": \"source.upload_silver\",\"idLeague\": \"source.idLeague\",\"strLeague\": \"source.strLeague\"}).whenNotMatchedInsert(values={\"hash_value\": \"source.hash_value\", \"upload_silver\": \"source.upload_silver\",\"idLeague\": \"source.idLeague\",\"strLeague\": \"source.strLeague\"}).execute()"
   ]
  },
  {
   "cell_type": "code",
   "execution_count": 0,
   "metadata": {
    "application/vnd.databricks.v1+cell": {
     "cellMetadata": {
      "byteLimit": 2048000,
      "implicitDf": true,
      "rowLimit": 10000
     },
     "inputWidgets": {},
     "nuid": "737baa67-e2dc-4053-ae0a-1a2becfa591f",
     "showTitle": false,
     "tableResultSettingsMap": {},
     "title": ""
    }
   },
   "outputs": [
    {
     "output_type": "display_data",
     "data": {
      "text/html": [
       "<style scoped>\n",
       "  .table-result-container {\n",
       "    max-height: 300px;\n",
       "    overflow: auto;\n",
       "  }\n",
       "  table, th, td {\n",
       "    border: 1px solid black;\n",
       "    border-collapse: collapse;\n",
       "  }\n",
       "  th, td {\n",
       "    padding: 5px;\n",
       "  }\n",
       "  th {\n",
       "    text-align: left;\n",
       "  }\n",
       "</style><div class='table-result-container'><table class='table-result'><thead style='background-color: white'><tr><th>idLeague</th><th>strLeague</th><th>upload_silver</th><th>hash_value</th></tr></thead><tbody><tr><td>4351</td><td>Brazilian Serie A</td><td>2025-08-04</td><td>456e108fbb2c66b42e4f6be6a1e47de74e0424d033620ccf85994b87155f1ddc</td></tr></tbody></table></div>"
      ]
     },
     "metadata": {
      "application/vnd.databricks.v1+output": {
       "addedWidgets": {},
       "aggData": [],
       "aggError": "",
       "aggOverflow": false,
       "aggSchema": [],
       "aggSeriesLimitReached": false,
       "aggType": "",
       "arguments": {},
       "columnCustomDisplayInfos": {},
       "data": [
        [
         4351,
         "Brazilian Serie A",
         "2025-08-04",
         "456e108fbb2c66b42e4f6be6a1e47de74e0424d033620ccf85994b87155f1ddc"
        ]
       ],
       "datasetInfos": [
        {
         "name": "_sqldf",
         "schema": {
          "fields": [
           {
            "metadata": {},
            "name": "idLeague",
            "nullable": false,
            "type": "integer"
           },
           {
            "metadata": {},
            "name": "strLeague",
            "nullable": true,
            "type": "string"
           },
           {
            "metadata": {},
            "name": "upload_silver",
            "nullable": true,
            "type": "date"
           },
           {
            "metadata": {},
            "name": "hash_value",
            "nullable": true,
            "type": "string"
           }
          ],
          "type": "struct"
         },
         "tableIdentifier": null,
         "typeStr": "pyspark.sql.connect.dataframe.DataFrame"
        }
       ],
       "dbfsResultPath": null,
       "isJsonSchema": true,
       "metadata": {
        "createTempViewForImplicitDf": true,
        "dataframeName": "_sqldf",
        "executionCount": 15
       },
       "overflow": false,
       "plotOptions": {
        "customPlotOptions": {},
        "displayType": "table",
        "pivotAggregation": null,
        "pivotColumns": null,
        "xColumns": null,
        "yColumns": null
       },
       "removedWidgets": [],
       "schema": [
        {
         "metadata": "{}",
         "name": "idLeague",
         "type": "\"integer\""
        },
        {
         "metadata": "{}",
         "name": "strLeague",
         "type": "\"string\""
        },
        {
         "metadata": "{}",
         "name": "upload_silver",
         "type": "\"date\""
        },
        {
         "metadata": "{}",
         "name": "hash_value",
         "type": "\"string\""
        }
       ],
       "type": "table"
      }
     },
     "output_type": "display_data"
    }
   ],
   "source": [
    "%sql\n",
    "SELECT * FROM brasileirao_medallion.silver.dim_leagues_silver\t;"
   ]
  },
  {
   "cell_type": "code",
   "execution_count": 0,
   "metadata": {
    "application/vnd.databricks.v1+cell": {
     "cellMetadata": {
      "byteLimit": 2048000,
      "implicitDf": true,
      "rowLimit": 10000
     },
     "inputWidgets": {},
     "nuid": "5fdadd5a-079d-47d1-bdd2-b9cd02c528be",
     "showTitle": false,
     "tableResultSettingsMap": {},
     "title": ""
    }
   },
   "outputs": [],
   "source": [
    "%sql\n",
    "CREATE TABLE IF NOT EXISTS brasileirao_medallion.silver.dim_teams_silver (\n",
    "  idTeam integer PRIMARY KEY,\n",
    "  strTeam string,\n",
    "  strBadge string,\n",
    "  upload_silver date,\n",
    "  hash_value string\n",
    ")\n",
    "USING DELTA;"
   ]
  },
  {
   "cell_type": "code",
   "execution_count": 0,
   "metadata": {
    "application/vnd.databricks.v1+cell": {
     "cellMetadata": {
      "byteLimit": 2048000,
      "rowLimit": 10000
     },
     "inputWidgets": {},
     "nuid": "1a03a543-ff6d-46e7-9bbf-e154b356ddea",
     "showTitle": false,
     "tableResultSettingsMap": {},
     "title": ""
    }
   },
   "outputs": [],
   "source": [
    "tabla_team=DeltaTable.forName(spark,'brasileirao_medallion.silver.dim_teams_silver')"
   ]
  },
  {
   "cell_type": "code",
   "execution_count": 0,
   "metadata": {
    "application/vnd.databricks.v1+cell": {
     "cellMetadata": {
      "byteLimit": 2048000,
      "rowLimit": 10000
     },
     "inputWidgets": {},
     "nuid": "fa7768ae-0f04-470e-b3ed-2f82cceee436",
     "showTitle": false,
     "tableResultSettingsMap": {},
     "title": ""
    }
   },
   "outputs": [
    {
     "output_type": "display_data",
     "data": {
      "text/html": [
       "<style scoped>\n",
       "  .table-result-container {\n",
       "    max-height: 300px;\n",
       "    overflow: auto;\n",
       "  }\n",
       "  table, th, td {\n",
       "    border: 1px solid black;\n",
       "    border-collapse: collapse;\n",
       "  }\n",
       "  th, td {\n",
       "    padding: 5px;\n",
       "  }\n",
       "  th {\n",
       "    text-align: left;\n",
       "  }\n",
       "</style><div class='table-result-container'><table class='table-result'><thead style='background-color: white'><tr><th>idTeam</th><th>strTeam</th><th>strBadge</th><th>hash_value</th><th>upload_silver</th></tr></thead><tbody><tr><td>134293</td><td>Bahia</td><td>https://r2.thesportsdb.com/images/media/team/badge/xuvtsv1473539308.png/tiny</td><td>0a1eeef1a57786eef8c362729b6bac4e6b535485098197f0cf09612f4f44df18</td><td>2025-08-06T17:31:31.048Z</td></tr><tr><td>134294</td><td>Cruzeiro</td><td>https://r2.thesportsdb.com/images/media/team/badge/upsvvu1473538059.png/tiny</td><td>c5430ae28a9818e05f5a99bb921573f47b1fb787dd28349249e6702ab734c472</td><td>2025-08-06T17:31:31.048Z</td></tr><tr><td>134287</td><td>Flamengo</td><td>https://r2.thesportsdb.com/images/media/team/badge/syptwx1473538074.png/tiny</td><td>1e3546941cd1a59511ca5c8b4eaeb4cd663aa4eff2edabe4f8f409fa6a6d92f3</td><td>2025-08-06T17:31:31.048Z</td></tr><tr><td>141181</td><td>Mirassol</td><td>https://r2.thesportsdb.com/images/media/team/badge/tfth1h1617198957.png/tiny</td><td>96f343909422dcee3f545ddc1184b7c35c7e172b21ad825cd548dcfe862cd484</td><td>2025-08-06T17:31:31.048Z</td></tr><tr><td>134465</td><td>Palmeiras</td><td>https://r2.thesportsdb.com/images/media/team/badge/vsqwqp1473538105.png/tiny</td><td>3fd34afc68e86431efe15c98c9aafba95e798e8d09e8b67b87e78e6698a6fb6d</td><td>2025-08-06T17:31:31.048Z</td></tr></tbody></table></div>"
      ]
     },
     "metadata": {
      "application/vnd.databricks.v1+output": {
       "addedWidgets": {},
       "aggData": [],
       "aggError": "",
       "aggOverflow": false,
       "aggSchema": [],
       "aggSeriesLimitReached": false,
       "aggType": "",
       "arguments": {},
       "columnCustomDisplayInfos": {},
       "data": [
        [
         134293,
         "Bahia",
         "https://r2.thesportsdb.com/images/media/team/badge/xuvtsv1473539308.png/tiny",
         "0a1eeef1a57786eef8c362729b6bac4e6b535485098197f0cf09612f4f44df18",
         "2025-08-06T17:31:31.048Z"
        ],
        [
         134294,
         "Cruzeiro",
         "https://r2.thesportsdb.com/images/media/team/badge/upsvvu1473538059.png/tiny",
         "c5430ae28a9818e05f5a99bb921573f47b1fb787dd28349249e6702ab734c472",
         "2025-08-06T17:31:31.048Z"
        ],
        [
         134287,
         "Flamengo",
         "https://r2.thesportsdb.com/images/media/team/badge/syptwx1473538074.png/tiny",
         "1e3546941cd1a59511ca5c8b4eaeb4cd663aa4eff2edabe4f8f409fa6a6d92f3",
         "2025-08-06T17:31:31.048Z"
        ],
        [
         141181,
         "Mirassol",
         "https://r2.thesportsdb.com/images/media/team/badge/tfth1h1617198957.png/tiny",
         "96f343909422dcee3f545ddc1184b7c35c7e172b21ad825cd548dcfe862cd484",
         "2025-08-06T17:31:31.048Z"
        ],
        [
         134465,
         "Palmeiras",
         "https://r2.thesportsdb.com/images/media/team/badge/vsqwqp1473538105.png/tiny",
         "3fd34afc68e86431efe15c98c9aafba95e798e8d09e8b67b87e78e6698a6fb6d",
         "2025-08-06T17:31:31.048Z"
        ]
       ],
       "datasetInfos": [],
       "dbfsResultPath": null,
       "isJsonSchema": true,
       "metadata": {},
       "overflow": false,
       "plotOptions": {
        "customPlotOptions": {},
        "displayType": "table",
        "pivotAggregation": null,
        "pivotColumns": null,
        "xColumns": null,
        "yColumns": null
       },
       "removedWidgets": [],
       "schema": [
        {
         "metadata": "{}",
         "name": "idTeam",
         "type": "\"integer\""
        },
        {
         "metadata": "{}",
         "name": "strTeam",
         "type": "\"string\""
        },
        {
         "metadata": "{}",
         "name": "strBadge",
         "type": "\"string\""
        },
        {
         "metadata": "{}",
         "name": "hash_value",
         "type": "\"string\""
        },
        {
         "metadata": "{}",
         "name": "upload_silver",
         "type": "\"timestamp\""
        }
       ],
       "type": "table"
      }
     },
     "output_type": "display_data"
    }
   ],
   "source": [
    "tabla_team_source=tabla.select(F.col('idTeam'),F.col('strTeam'),F.col('strBadge')).dropDuplicates()\n",
    "tabla_team_source=tabla_team_source.withColumn('hash_value',sha2(F.concat(F.col('idTeam'),F.col('strTeam'),F.col('strBadge')), 256))\n",
    "tabla_team_source=tabla_team_source.withColumn('upload_silver',F.current_timestamp())\n",
    "display(tabla_team_source)"
   ]
  },
  {
   "cell_type": "code",
   "execution_count": 0,
   "metadata": {
    "application/vnd.databricks.v1+cell": {
     "cellMetadata": {
      "byteLimit": 2048000,
      "rowLimit": 10000
     },
     "inputWidgets": {},
     "nuid": "44d72cc9-b03d-46e6-b020-2e246e21f947",
     "showTitle": false,
     "tableResultSettingsMap": {},
     "title": ""
    }
   },
   "outputs": [
    {
     "output_type": "execute_result",
     "data": {
      "text/plain": [
       "DataFrame[num_affected_rows: bigint, num_updated_rows: bigint, num_deleted_rows: bigint, num_inserted_rows: bigint]"
      ]
     },
     "execution_count": 19,
     "metadata": {},
     "output_type": "execute_result"
    }
   ],
   "source": [
    "tabla_team.alias(\"target\").merge(tabla_team_source.alias(\"source\"), 'source.idTeam = target.idTeam').whenMatchedUpdate(condition=\"target.hash_value != source.hash_value\", set = {\"hash_value\": \"source.hash_value\", \"upload_silver\": \"source.upload_silver\",\"idTeam\": \"source.idTeam\",\"strTeam\": \"source.strTeam\",\"strBadge\": \"source.strBadge\"}).whenNotMatchedInsert(values={\"hash_value\": \"source.hash_value\", \"upload_silver\": \"source.upload_silver\",\"idTeam\": \"source.idTeam\",\"strTeam\": \"source.strTeam\",\"strBadge\": \"source.strBadge\"}).execute()"
   ]
  },
  {
   "cell_type": "code",
   "execution_count": 0,
   "metadata": {
    "application/vnd.databricks.v1+cell": {
     "cellMetadata": {
      "byteLimit": 2048000,
      "implicitDf": true,
      "rowLimit": 10000
     },
     "inputWidgets": {},
     "nuid": "8ad2dfbd-ea8e-4243-aaa6-c315abb1bddb",
     "showTitle": false,
     "tableResultSettingsMap": {},
     "title": ""
    }
   },
   "outputs": [
    {
     "output_type": "display_data",
     "data": {
      "text/html": [
       "<style scoped>\n",
       "  .table-result-container {\n",
       "    max-height: 300px;\n",
       "    overflow: auto;\n",
       "  }\n",
       "  table, th, td {\n",
       "    border: 1px solid black;\n",
       "    border-collapse: collapse;\n",
       "  }\n",
       "  th, td {\n",
       "    padding: 5px;\n",
       "  }\n",
       "  th {\n",
       "    text-align: left;\n",
       "  }\n",
       "</style><div class='table-result-container'><table class='table-result'><thead style='background-color: white'><tr><th>idTeam</th><th>strTeam</th><th>strBadge</th><th>upload_silver</th><th>hash_value</th></tr></thead><tbody><tr><td>134293</td><td>Bahia</td><td>https://r2.thesportsdb.com/images/media/team/badge/xuvtsv1473539308.png/tiny</td><td>2025-08-04</td><td>0a1eeef1a57786eef8c362729b6bac4e6b535485098197f0cf09612f4f44df18</td></tr><tr><td>134294</td><td>Cruzeiro</td><td>https://r2.thesportsdb.com/images/media/team/badge/upsvvu1473538059.png/tiny</td><td>2025-08-04</td><td>c5430ae28a9818e05f5a99bb921573f47b1fb787dd28349249e6702ab734c472</td></tr><tr><td>134287</td><td>Flamengo</td><td>https://r2.thesportsdb.com/images/media/team/badge/syptwx1473538074.png/tiny</td><td>2025-08-04</td><td>1e3546941cd1a59511ca5c8b4eaeb4cd663aa4eff2edabe4f8f409fa6a6d92f3</td></tr><tr><td>141181</td><td>Mirassol</td><td>https://r2.thesportsdb.com/images/media/team/badge/tfth1h1617198957.png/tiny</td><td>2025-08-04</td><td>96f343909422dcee3f545ddc1184b7c35c7e172b21ad825cd548dcfe862cd484</td></tr><tr><td>134465</td><td>Palmeiras</td><td>https://r2.thesportsdb.com/images/media/team/badge/vsqwqp1473538105.png/tiny</td><td>2025-08-04</td><td>3fd34afc68e86431efe15c98c9aafba95e798e8d09e8b67b87e78e6698a6fb6d</td></tr></tbody></table></div>"
      ]
     },
     "metadata": {
      "application/vnd.databricks.v1+output": {
       "addedWidgets": {},
       "aggData": [],
       "aggError": "",
       "aggOverflow": false,
       "aggSchema": [],
       "aggSeriesLimitReached": false,
       "aggType": "",
       "arguments": {},
       "columnCustomDisplayInfos": {},
       "data": [
        [
         134293,
         "Bahia",
         "https://r2.thesportsdb.com/images/media/team/badge/xuvtsv1473539308.png/tiny",
         "2025-08-04",
         "0a1eeef1a57786eef8c362729b6bac4e6b535485098197f0cf09612f4f44df18"
        ],
        [
         134294,
         "Cruzeiro",
         "https://r2.thesportsdb.com/images/media/team/badge/upsvvu1473538059.png/tiny",
         "2025-08-04",
         "c5430ae28a9818e05f5a99bb921573f47b1fb787dd28349249e6702ab734c472"
        ],
        [
         134287,
         "Flamengo",
         "https://r2.thesportsdb.com/images/media/team/badge/syptwx1473538074.png/tiny",
         "2025-08-04",
         "1e3546941cd1a59511ca5c8b4eaeb4cd663aa4eff2edabe4f8f409fa6a6d92f3"
        ],
        [
         141181,
         "Mirassol",
         "https://r2.thesportsdb.com/images/media/team/badge/tfth1h1617198957.png/tiny",
         "2025-08-04",
         "96f343909422dcee3f545ddc1184b7c35c7e172b21ad825cd548dcfe862cd484"
        ],
        [
         134465,
         "Palmeiras",
         "https://r2.thesportsdb.com/images/media/team/badge/vsqwqp1473538105.png/tiny",
         "2025-08-04",
         "3fd34afc68e86431efe15c98c9aafba95e798e8d09e8b67b87e78e6698a6fb6d"
        ]
       ],
       "datasetInfos": [
        {
         "name": "_sqldf",
         "schema": {
          "fields": [
           {
            "metadata": {},
            "name": "idTeam",
            "nullable": false,
            "type": "integer"
           },
           {
            "metadata": {},
            "name": "strTeam",
            "nullable": true,
            "type": "string"
           },
           {
            "metadata": {},
            "name": "strBadge",
            "nullable": true,
            "type": "string"
           },
           {
            "metadata": {},
            "name": "upload_silver",
            "nullable": true,
            "type": "date"
           },
           {
            "metadata": {},
            "name": "hash_value",
            "nullable": true,
            "type": "string"
           }
          ],
          "type": "struct"
         },
         "tableIdentifier": null,
         "typeStr": "pyspark.sql.connect.dataframe.DataFrame"
        }
       ],
       "dbfsResultPath": null,
       "isJsonSchema": true,
       "metadata": {
        "createTempViewForImplicitDf": true,
        "dataframeName": "_sqldf",
        "executionCount": 20
       },
       "overflow": false,
       "plotOptions": {
        "customPlotOptions": {},
        "displayType": "table",
        "pivotAggregation": null,
        "pivotColumns": null,
        "xColumns": null,
        "yColumns": null
       },
       "removedWidgets": [],
       "schema": [
        {
         "metadata": "{}",
         "name": "idTeam",
         "type": "\"integer\""
        },
        {
         "metadata": "{}",
         "name": "strTeam",
         "type": "\"string\""
        },
        {
         "metadata": "{}",
         "name": "strBadge",
         "type": "\"string\""
        },
        {
         "metadata": "{}",
         "name": "upload_silver",
         "type": "\"date\""
        },
        {
         "metadata": "{}",
         "name": "hash_value",
         "type": "\"string\""
        }
       ],
       "type": "table"
      }
     },
     "output_type": "display_data"
    }
   ],
   "source": [
    "%sql\n",
    "SELECT * FROM   brasileirao_medallion.silver.dim_teams_silver;\n"
   ]
  },
  {
   "cell_type": "markdown",
   "metadata": {
    "application/vnd.databricks.v1+cell": {
     "cellMetadata": {
      "byteLimit": 2048000,
      "rowLimit": 10000
     },
     "inputWidgets": {},
     "nuid": "9449ea40-b17f-40ba-a50f-a416b7ddbe34",
     "showTitle": false,
     "tableResultSettingsMap": {},
     "title": ""
    }
   },
   "source": [
    "favts: idleague,idteam,dateupdated, intDraw,intGoalDifference,intGoalsAgainst,infGoalsFor,intLoss,intPlayed,intPoints,intRank,intWins,strSeason"
   ]
  },
  {
   "cell_type": "code",
   "execution_count": 0,
   "metadata": {
    "application/vnd.databricks.v1+cell": {
     "cellMetadata": {
      "byteLimit": 2048000,
      "implicitDf": true,
      "rowLimit": 10000
     },
     "inputWidgets": {},
     "nuid": "defe7e48-8d25-4582-ad7c-a9bce611db50",
     "showTitle": false,
     "tableResultSettingsMap": {},
     "title": ""
    }
   },
   "outputs": [],
   "source": [
    "%sql\n",
    "CREATE TABLE IF NOT EXISTS brasileirao_medallion.silver.dim_facts_silver (\n",
    "  dateUpdated DATE,\n",
    "  idLeague INT,\n",
    "  idTeam INT,\n",
    "  intDraw INT,\n",
    "  intGoalDifference INT,\n",
    "  intGoalsAgainst INT,\n",
    "  intGoalsFor INT,\n",
    "  intLoss INT,\n",
    "  intPlayed INT,\n",
    "  intPoints INT,\n",
    "  intRank INT,\n",
    "  intWin INT,\n",
    "  intSeason INT,\n",
    "  hash_value string,\n",
    "  upload_silver TIMESTAMP,\n",
    "  FOREIGN KEY (idLeague) REFERENCES brasileirao_medallion.silver.dim_leagues_silver(idLeague),\n",
    "  FOREIGN KEY (idTeam) REFERENCES brasileirao_medallion.silver.dim_teams_silver(idTeam)\n",
    ")\n",
    "USING DELTA;"
   ]
  },
  {
   "cell_type": "code",
   "execution_count": 0,
   "metadata": {
    "application/vnd.databricks.v1+cell": {
     "cellMetadata": {
      "byteLimit": 2048000,
      "rowLimit": 10000
     },
     "inputWidgets": {},
     "nuid": "a4e48838-2d21-4425-8c6f-062d0eaa738b",
     "showTitle": false,
     "tableResultSettingsMap": {},
     "title": ""
    }
   },
   "outputs": [],
   "source": [
    "tabla_facts=DeltaTable.forName(spark,'brasileirao_medallion.silver.dim_facts_silver')"
   ]
  },
  {
   "cell_type": "code",
   "execution_count": 0,
   "metadata": {
    "application/vnd.databricks.v1+cell": {
     "cellMetadata": {
      "byteLimit": 2048000,
      "rowLimit": 10000
     },
     "inputWidgets": {},
     "nuid": "818c747e-d1b9-4e58-9ac7-ccc6137dc12d",
     "showTitle": false,
     "tableResultSettingsMap": {},
     "title": ""
    }
   },
   "outputs": [
    {
     "output_type": "display_data",
     "data": {
      "text/html": [
       "<style scoped>\n",
       "  .table-result-container {\n",
       "    max-height: 300px;\n",
       "    overflow: auto;\n",
       "  }\n",
       "  table, th, td {\n",
       "    border: 1px solid black;\n",
       "    border-collapse: collapse;\n",
       "  }\n",
       "  th, td {\n",
       "    padding: 5px;\n",
       "  }\n",
       "  th {\n",
       "    text-align: left;\n",
       "  }\n",
       "</style><div class='table-result-container'><table class='table-result'><thead style='background-color: white'><tr><th>dateUpdated</th><th>idLeague</th><th>idTeam</th><th>intDraw</th><th>intGoalDifference</th><th>intGoalsAgainst</th><th>intGoalsFor</th><th>intLoss</th><th>intPlayed</th><th>intPoints</th><th>intRank</th><th>intWin</th><th>strSeason</th><th>hash_value</th><th>upload_silver</th></tr></thead><tbody><tr><td>2025-08-06</td><td>4351</td><td>134293</td><td>5</td><td>7</td><td>13</td><td>20</td><td>3</td><td>16</td><td>29</td><td>4</td><td>8</td><td>2025</td><td>0b2fc04e29f527c2d53cbf46b6b9a6d2500173a59c60f729d2789a70d869d8a1</td><td>2025-08-06T17:31:45.830Z</td></tr><tr><td>2025-08-06</td><td>4351</td><td>141181</td><td>7</td><td>11</td><td>16</td><td>27</td><td>2</td><td>16</td><td>28</td><td>5</td><td>7</td><td>2025</td><td>6e5cfa01b9544b59e377cc784efc52d2a8decd80c4ea652eba2ef545de4a21b8</td><td>2025-08-06T17:31:45.830Z</td></tr><tr><td>2025-08-06</td><td>4351</td><td>134294</td><td>4</td><td>19</td><td>11</td><td>30</td><td>3</td><td>18</td><td>37</td><td>2</td><td>11</td><td>2025</td><td>aa064b04917092ee4f8a98f5dac63893b5d4d684e69ddce99ab072e361fb49cc</td><td>2025-08-06T17:31:45.830Z</td></tr><tr><td>2025-08-06</td><td>4351</td><td>134465</td><td>3</td><td>7</td><td>14</td><td>21</td><td>3</td><td>16</td><td>33</td><td>3</td><td>10</td><td>2025</td><td>6802e49a2f90a1b7e167fc54797504fa837ca51d357c9bc4ff38b22331324476</td><td>2025-08-06T17:31:45.830Z</td></tr><tr><td>2025-08-06</td><td>4351</td><td>134287</td><td>4</td><td>24</td><td>7</td><td>31</td><td>2</td><td>17</td><td>37</td><td>1</td><td>11</td><td>2025</td><td>c77cbe35357c5ba5900a0b671f4f3a8cc3bd5d3dc4ca4ee727e853ac96d1b736</td><td>2025-08-06T17:31:45.830Z</td></tr></tbody></table></div>"
      ]
     },
     "metadata": {
      "application/vnd.databricks.v1+output": {
       "addedWidgets": {},
       "aggData": [],
       "aggError": "",
       "aggOverflow": false,
       "aggSchema": [],
       "aggSeriesLimitReached": false,
       "aggType": "",
       "arguments": {},
       "columnCustomDisplayInfos": {},
       "data": [
        [
         "2025-08-06",
         4351,
         134293,
         5,
         7,
         13,
         20,
         3,
         16,
         29,
         4,
         8,
         "2025",
         "0b2fc04e29f527c2d53cbf46b6b9a6d2500173a59c60f729d2789a70d869d8a1",
         "2025-08-06T17:31:45.830Z"
        ],
        [
         "2025-08-06",
         4351,
         141181,
         7,
         11,
         16,
         27,
         2,
         16,
         28,
         5,
         7,
         "2025",
         "6e5cfa01b9544b59e377cc784efc52d2a8decd80c4ea652eba2ef545de4a21b8",
         "2025-08-06T17:31:45.830Z"
        ],
        [
         "2025-08-06",
         4351,
         134294,
         4,
         19,
         11,
         30,
         3,
         18,
         37,
         2,
         11,
         "2025",
         "aa064b04917092ee4f8a98f5dac63893b5d4d684e69ddce99ab072e361fb49cc",
         "2025-08-06T17:31:45.830Z"
        ],
        [
         "2025-08-06",
         4351,
         134465,
         3,
         7,
         14,
         21,
         3,
         16,
         33,
         3,
         10,
         "2025",
         "6802e49a2f90a1b7e167fc54797504fa837ca51d357c9bc4ff38b22331324476",
         "2025-08-06T17:31:45.830Z"
        ],
        [
         "2025-08-06",
         4351,
         134287,
         4,
         24,
         7,
         31,
         2,
         17,
         37,
         1,
         11,
         "2025",
         "c77cbe35357c5ba5900a0b671f4f3a8cc3bd5d3dc4ca4ee727e853ac96d1b736",
         "2025-08-06T17:31:45.830Z"
        ]
       ],
       "datasetInfos": [],
       "dbfsResultPath": null,
       "isJsonSchema": true,
       "metadata": {},
       "overflow": false,
       "plotOptions": {
        "customPlotOptions": {},
        "displayType": "table",
        "pivotAggregation": null,
        "pivotColumns": null,
        "xColumns": null,
        "yColumns": null
       },
       "removedWidgets": [],
       "schema": [
        {
         "metadata": "{}",
         "name": "dateUpdated",
         "type": "\"date\""
        },
        {
         "metadata": "{}",
         "name": "idLeague",
         "type": "\"integer\""
        },
        {
         "metadata": "{}",
         "name": "idTeam",
         "type": "\"integer\""
        },
        {
         "metadata": "{}",
         "name": "intDraw",
         "type": "\"integer\""
        },
        {
         "metadata": "{}",
         "name": "intGoalDifference",
         "type": "\"integer\""
        },
        {
         "metadata": "{}",
         "name": "intGoalsAgainst",
         "type": "\"integer\""
        },
        {
         "metadata": "{}",
         "name": "intGoalsFor",
         "type": "\"integer\""
        },
        {
         "metadata": "{}",
         "name": "intLoss",
         "type": "\"integer\""
        },
        {
         "metadata": "{}",
         "name": "intPlayed",
         "type": "\"integer\""
        },
        {
         "metadata": "{}",
         "name": "intPoints",
         "type": "\"integer\""
        },
        {
         "metadata": "{}",
         "name": "intRank",
         "type": "\"integer\""
        },
        {
         "metadata": "{}",
         "name": "intWin",
         "type": "\"integer\""
        },
        {
         "metadata": "{}",
         "name": "strSeason",
         "type": "\"string\""
        },
        {
         "metadata": "{}",
         "name": "hash_value",
         "type": "\"string\""
        },
        {
         "metadata": "{}",
         "name": "upload_silver",
         "type": "\"timestamp\""
        }
       ],
       "type": "table"
      }
     },
     "output_type": "display_data"
    }
   ],
   "source": [
    "tabla_facts_source=tabla.select(F.col('dateUpdated'),F.col('idLeague'),F.col('idTeam'),F.col('intDraw'),F.col('intGoalDifference'),F.col('intGoalsAgainst'),F.col('intGoalsFor'),F.col('intLoss'),F.col('intPlayed'),F.col('intPoints'),F.col('intRank'),F.col('intWin'),F.col('strSeason')).dropDuplicates()\n",
    "tabla_facts_source=tabla_facts_source.withColumn('hash_value',sha2(F.concat(F.col('idLeague'),F.col('idTeam'),F.col('intDraw'),F.col('intGoalDifference'),F.col('intGoalsAgainst'),F.col('intGoalsFor'),F.col('intLoss'),F.col('intPlayed'),F.col('intPoints'),F.col('intRank'),F.col('intWin'),F.col('strSeason')), 256))\n",
    "tabla_facts_source=tabla_facts_source.withColumn('upload_silver',F.current_timestamp())\n",
    "display(tabla_facts_source)"
   ]
  },
  {
   "cell_type": "code",
   "execution_count": 0,
   "metadata": {
    "application/vnd.databricks.v1+cell": {
     "cellMetadata": {
      "byteLimit": 2048000,
      "rowLimit": 10000
     },
     "inputWidgets": {},
     "nuid": "8ba6b61d-77e4-4ff1-9277-3ccfc6b69bb7",
     "showTitle": false,
     "tableResultSettingsMap": {},
     "title": ""
    }
   },
   "outputs": [
    {
     "output_type": "execute_result",
     "data": {
      "text/plain": [
       "DataFrame[num_affected_rows: bigint, num_updated_rows: bigint, num_deleted_rows: bigint, num_inserted_rows: bigint]"
      ]
     },
     "execution_count": 24,
     "metadata": {},
     "output_type": "execute_result"
    }
   ],
   "source": [
    "tabla_facts.alias(\"target\").merge(tabla_facts_source.alias(\"source\"), \"\"\"source.idTeam = target.idTeam AND source.dateUpdated = target.dateUpdated\"\"\").whenMatchedUpdate(condition=\"target.hash_value != source.hash_value\", set = {\"dateUpdated\":\"source.dateUpdated\",\"hash_value\": \"source.hash_value\", \"upload_silver\": \"source.upload_silver\",\"idTeam\": \"source.idTeam\",\"idLeague\": \"source.idLeague\",\"intDraw\": \"source.intDraw\",\"intGoalDifference\": \"source.intGoalDifference\",\"intGoalsAgainst\": \"source.intGoalsAgainst\",\"intGoalsFor\": \"source.intGoalsFor\",\"intLoss\": \"source.intLoss\",\"intPlayed\": \"source.intPlayed\",\"intPoints\": \"source.intPoints\",\"intRank\": \"source.intRank\",\"intWin\": \"source.intWin\",\"intSeason\": \"source.strSeason\"}).whenNotMatchedInsert(values={\"dateUpdated\":\"source.dateUpdated\",\"hash_value\": \"source.hash_value\", \"upload_silver\": \"source.upload_silver\",\"idTeam\": \"source.idTeam\",\"idLeague\": \"source.idLeague\",\"intDraw\": \"source.intDraw\",\"intGoalDifference\": \"source.intGoalDifference\",\"intGoalsAgainst\": \"source.intGoalsAgainst\",\"intGoalsFor\": \"source.intGoalsFor\",\"intLoss\": \"source.intLoss\",\"intPlayed\": \"source.intPlayed\",\"intPoints\": \"source.intPoints\",\"intRank\": \"source.intRank\",\"intWin\": \"source.intWin\",\"intSeason\": \"source.strSeason\"}).execute()"
   ]
  },
  {
   "cell_type": "code",
   "execution_count": 0,
   "metadata": {
    "application/vnd.databricks.v1+cell": {
     "cellMetadata": {
      "byteLimit": 2048000,
      "implicitDf": true,
      "rowLimit": 10000
     },
     "inputWidgets": {},
     "nuid": "5374767b-8dc0-4fde-91ad-ffc828ad9ad2",
     "showTitle": false,
     "tableResultSettingsMap": {},
     "title": ""
    }
   },
   "outputs": [
    {
     "output_type": "display_data",
     "data": {
      "text/html": [
       "<style scoped>\n",
       "  .table-result-container {\n",
       "    max-height: 300px;\n",
       "    overflow: auto;\n",
       "  }\n",
       "  table, th, td {\n",
       "    border: 1px solid black;\n",
       "    border-collapse: collapse;\n",
       "  }\n",
       "  th, td {\n",
       "    padding: 5px;\n",
       "  }\n",
       "  th {\n",
       "    text-align: left;\n",
       "  }\n",
       "</style><div class='table-result-container'><table class='table-result'><thead style='background-color: white'><tr><th>dateUpdated</th><th>idLeague</th><th>idTeam</th><th>intDraw</th><th>intGoalDifference</th><th>intGoalsAgainst</th><th>intGoalsFor</th><th>intLoss</th><th>intPlayed</th><th>intPoints</th><th>intRank</th><th>intWin</th><th>intSeason</th><th>hash_value</th><th>upload_silver</th></tr></thead><tbody><tr><td>2025-08-06</td><td>4351</td><td>134293</td><td>5</td><td>7</td><td>13</td><td>20</td><td>3</td><td>16</td><td>29</td><td>4</td><td>8</td><td>2025</td><td>0b2fc04e29f527c2d53cbf46b6b9a6d2500173a59c60f729d2789a70d869d8a1</td><td>2025-08-06T17:31:47.748Z</td></tr><tr><td>2025-08-06</td><td>4351</td><td>141181</td><td>7</td><td>11</td><td>16</td><td>27</td><td>2</td><td>16</td><td>28</td><td>5</td><td>7</td><td>2025</td><td>6e5cfa01b9544b59e377cc784efc52d2a8decd80c4ea652eba2ef545de4a21b8</td><td>2025-08-06T17:31:47.748Z</td></tr><tr><td>2025-08-06</td><td>4351</td><td>134294</td><td>4</td><td>19</td><td>11</td><td>30</td><td>3</td><td>18</td><td>37</td><td>2</td><td>11</td><td>2025</td><td>aa064b04917092ee4f8a98f5dac63893b5d4d684e69ddce99ab072e361fb49cc</td><td>2025-08-06T17:31:47.748Z</td></tr><tr><td>2025-08-06</td><td>4351</td><td>134465</td><td>3</td><td>7</td><td>14</td><td>21</td><td>3</td><td>16</td><td>33</td><td>3</td><td>10</td><td>2025</td><td>6802e49a2f90a1b7e167fc54797504fa837ca51d357c9bc4ff38b22331324476</td><td>2025-08-06T17:31:47.748Z</td></tr><tr><td>2025-08-06</td><td>4351</td><td>134287</td><td>4</td><td>24</td><td>7</td><td>31</td><td>2</td><td>17</td><td>37</td><td>1</td><td>11</td><td>2025</td><td>c77cbe35357c5ba5900a0b671f4f3a8cc3bd5d3dc4ca4ee727e853ac96d1b736</td><td>2025-08-06T17:31:47.748Z</td></tr><tr><td>2025-08-04</td><td>4351</td><td>134293</td><td>5</td><td>7</td><td>13</td><td>20</td><td>3</td><td>16</td><td>29</td><td>4</td><td>8</td><td>2025</td><td>0b2fc04e29f527c2d53cbf46b6b9a6d2500173a59c60f729d2789a70d869d8a1</td><td>2025-08-04T20:20:38.350Z</td></tr><tr><td>2025-08-04</td><td>4351</td><td>134294</td><td>4</td><td>17</td><td>11</td><td>28</td><td>3</td><td>17</td><td>34</td><td>2</td><td>10</td><td>2025</td><td>21b8c70d1c4f5d027be5398b8e3df77958818f8603804a0da9e3f70b481b0649</td><td>2025-08-04T20:20:38.350Z</td></tr><tr><td>2025-08-04</td><td>4351</td><td>134287</td><td>3</td><td>24</td><td>6</td><td>30</td><td>2</td><td>16</td><td>36</td><td>1</td><td>11</td><td>2025</td><td>0e91a3601efb147216ce985956c4e278406ea644af8b8b09fffd17f06da544bb</td><td>2025-08-04T20:20:38.350Z</td></tr><tr><td>2025-08-04</td><td>4351</td><td>141181</td><td>7</td><td>11</td><td>16</td><td>27</td><td>2</td><td>16</td><td>28</td><td>5</td><td>7</td><td>2025</td><td>6e5cfa01b9544b59e377cc784efc52d2a8decd80c4ea652eba2ef545de4a21b8</td><td>2025-08-04T20:20:38.350Z</td></tr><tr><td>2025-08-04</td><td>4351</td><td>134465</td><td>2</td><td>7</td><td>12</td><td>19</td><td>3</td><td>15</td><td>32</td><td>3</td><td>10</td><td>2025</td><td>e2bc45d694b870e2d65d7020e48235a7b4ed6931fe0b0b459f4da53a3e73a14c</td><td>2025-08-04T20:20:38.350Z</td></tr><tr><td>2025-08-05</td><td>4351</td><td>134287</td><td>3</td><td>24</td><td>6</td><td>30</td><td>2</td><td>16</td><td>36</td><td>1</td><td>11</td><td>2025</td><td>0e91a3601efb147216ce985956c4e278406ea644af8b8b09fffd17f06da544bb</td><td>2025-08-05T14:19:14.328Z</td></tr><tr><td>2025-08-05</td><td>4351</td><td>141181</td><td>7</td><td>11</td><td>16</td><td>27</td><td>2</td><td>16</td><td>28</td><td>5</td><td>7</td><td>2025</td><td>6e5cfa01b9544b59e377cc784efc52d2a8decd80c4ea652eba2ef545de4a21b8</td><td>2025-08-05T14:19:14.328Z</td></tr><tr><td>2025-08-05</td><td>4351</td><td>134293</td><td>5</td><td>7</td><td>13</td><td>20</td><td>3</td><td>16</td><td>29</td><td>4</td><td>8</td><td>2025</td><td>0b2fc04e29f527c2d53cbf46b6b9a6d2500173a59c60f729d2789a70d869d8a1</td><td>2025-08-05T14:19:14.328Z</td></tr><tr><td>2025-08-05</td><td>4351</td><td>134465</td><td>2</td><td>7</td><td>12</td><td>19</td><td>3</td><td>15</td><td>32</td><td>3</td><td>10</td><td>2025</td><td>e2bc45d694b870e2d65d7020e48235a7b4ed6931fe0b0b459f4da53a3e73a14c</td><td>2025-08-05T14:19:14.328Z</td></tr><tr><td>2025-08-05</td><td>4351</td><td>134294</td><td>4</td><td>17</td><td>11</td><td>28</td><td>3</td><td>17</td><td>34</td><td>2</td><td>10</td><td>2025</td><td>21b8c70d1c4f5d027be5398b8e3df77958818f8603804a0da9e3f70b481b0649</td><td>2025-08-05T14:19:14.328Z</td></tr></tbody></table></div>"
      ]
     },
     "metadata": {
      "application/vnd.databricks.v1+output": {
       "addedWidgets": {},
       "aggData": [],
       "aggError": "",
       "aggOverflow": false,
       "aggSchema": [],
       "aggSeriesLimitReached": false,
       "aggType": "",
       "arguments": {},
       "columnCustomDisplayInfos": {},
       "data": [
        [
         "2025-08-06",
         4351,
         134293,
         5,
         7,
         13,
         20,
         3,
         16,
         29,
         4,
         8,
         2025,
         "0b2fc04e29f527c2d53cbf46b6b9a6d2500173a59c60f729d2789a70d869d8a1",
         "2025-08-06T17:31:47.748Z"
        ],
        [
         "2025-08-06",
         4351,
         141181,
         7,
         11,
         16,
         27,
         2,
         16,
         28,
         5,
         7,
         2025,
         "6e5cfa01b9544b59e377cc784efc52d2a8decd80c4ea652eba2ef545de4a21b8",
         "2025-08-06T17:31:47.748Z"
        ],
        [
         "2025-08-06",
         4351,
         134294,
         4,
         19,
         11,
         30,
         3,
         18,
         37,
         2,
         11,
         2025,
         "aa064b04917092ee4f8a98f5dac63893b5d4d684e69ddce99ab072e361fb49cc",
         "2025-08-06T17:31:47.748Z"
        ],
        [
         "2025-08-06",
         4351,
         134465,
         3,
         7,
         14,
         21,
         3,
         16,
         33,
         3,
         10,
         2025,
         "6802e49a2f90a1b7e167fc54797504fa837ca51d357c9bc4ff38b22331324476",
         "2025-08-06T17:31:47.748Z"
        ],
        [
         "2025-08-06",
         4351,
         134287,
         4,
         24,
         7,
         31,
         2,
         17,
         37,
         1,
         11,
         2025,
         "c77cbe35357c5ba5900a0b671f4f3a8cc3bd5d3dc4ca4ee727e853ac96d1b736",
         "2025-08-06T17:31:47.748Z"
        ],
        [
         "2025-08-04",
         4351,
         134293,
         5,
         7,
         13,
         20,
         3,
         16,
         29,
         4,
         8,
         2025,
         "0b2fc04e29f527c2d53cbf46b6b9a6d2500173a59c60f729d2789a70d869d8a1",
         "2025-08-04T20:20:38.350Z"
        ],
        [
         "2025-08-04",
         4351,
         134294,
         4,
         17,
         11,
         28,
         3,
         17,
         34,
         2,
         10,
         2025,
         "21b8c70d1c4f5d027be5398b8e3df77958818f8603804a0da9e3f70b481b0649",
         "2025-08-04T20:20:38.350Z"
        ],
        [
         "2025-08-04",
         4351,
         134287,
         3,
         24,
         6,
         30,
         2,
         16,
         36,
         1,
         11,
         2025,
         "0e91a3601efb147216ce985956c4e278406ea644af8b8b09fffd17f06da544bb",
         "2025-08-04T20:20:38.350Z"
        ],
        [
         "2025-08-04",
         4351,
         141181,
         7,
         11,
         16,
         27,
         2,
         16,
         28,
         5,
         7,
         2025,
         "6e5cfa01b9544b59e377cc784efc52d2a8decd80c4ea652eba2ef545de4a21b8",
         "2025-08-04T20:20:38.350Z"
        ],
        [
         "2025-08-04",
         4351,
         134465,
         2,
         7,
         12,
         19,
         3,
         15,
         32,
         3,
         10,
         2025,
         "e2bc45d694b870e2d65d7020e48235a7b4ed6931fe0b0b459f4da53a3e73a14c",
         "2025-08-04T20:20:38.350Z"
        ],
        [
         "2025-08-05",
         4351,
         134287,
         3,
         24,
         6,
         30,
         2,
         16,
         36,
         1,
         11,
         2025,
         "0e91a3601efb147216ce985956c4e278406ea644af8b8b09fffd17f06da544bb",
         "2025-08-05T14:19:14.328Z"
        ],
        [
         "2025-08-05",
         4351,
         141181,
         7,
         11,
         16,
         27,
         2,
         16,
         28,
         5,
         7,
         2025,
         "6e5cfa01b9544b59e377cc784efc52d2a8decd80c4ea652eba2ef545de4a21b8",
         "2025-08-05T14:19:14.328Z"
        ],
        [
         "2025-08-05",
         4351,
         134293,
         5,
         7,
         13,
         20,
         3,
         16,
         29,
         4,
         8,
         2025,
         "0b2fc04e29f527c2d53cbf46b6b9a6d2500173a59c60f729d2789a70d869d8a1",
         "2025-08-05T14:19:14.328Z"
        ],
        [
         "2025-08-05",
         4351,
         134465,
         2,
         7,
         12,
         19,
         3,
         15,
         32,
         3,
         10,
         2025,
         "e2bc45d694b870e2d65d7020e48235a7b4ed6931fe0b0b459f4da53a3e73a14c",
         "2025-08-05T14:19:14.328Z"
        ],
        [
         "2025-08-05",
         4351,
         134294,
         4,
         17,
         11,
         28,
         3,
         17,
         34,
         2,
         10,
         2025,
         "21b8c70d1c4f5d027be5398b8e3df77958818f8603804a0da9e3f70b481b0649",
         "2025-08-05T14:19:14.328Z"
        ]
       ],
       "datasetInfos": [
        {
         "name": "_sqldf",
         "schema": {
          "fields": [
           {
            "metadata": {},
            "name": "dateUpdated",
            "nullable": true,
            "type": "date"
           },
           {
            "metadata": {},
            "name": "idLeague",
            "nullable": true,
            "type": "integer"
           },
           {
            "metadata": {},
            "name": "idTeam",
            "nullable": true,
            "type": "integer"
           },
           {
            "metadata": {},
            "name": "intDraw",
            "nullable": true,
            "type": "integer"
           },
           {
            "metadata": {},
            "name": "intGoalDifference",
            "nullable": true,
            "type": "integer"
           },
           {
            "metadata": {},
            "name": "intGoalsAgainst",
            "nullable": true,
            "type": "integer"
           },
           {
            "metadata": {},
            "name": "intGoalsFor",
            "nullable": true,
            "type": "integer"
           },
           {
            "metadata": {},
            "name": "intLoss",
            "nullable": true,
            "type": "integer"
           },
           {
            "metadata": {},
            "name": "intPlayed",
            "nullable": true,
            "type": "integer"
           },
           {
            "metadata": {},
            "name": "intPoints",
            "nullable": true,
            "type": "integer"
           },
           {
            "metadata": {},
            "name": "intRank",
            "nullable": true,
            "type": "integer"
           },
           {
            "metadata": {},
            "name": "intWin",
            "nullable": true,
            "type": "integer"
           },
           {
            "metadata": {},
            "name": "intSeason",
            "nullable": true,
            "type": "integer"
           },
           {
            "metadata": {},
            "name": "hash_value",
            "nullable": true,
            "type": "string"
           },
           {
            "metadata": {},
            "name": "upload_silver",
            "nullable": true,
            "type": "timestamp"
           }
          ],
          "type": "struct"
         },
         "tableIdentifier": null,
         "typeStr": "pyspark.sql.connect.dataframe.DataFrame"
        }
       ],
       "dbfsResultPath": null,
       "isJsonSchema": true,
       "metadata": {
        "createTempViewForImplicitDf": true,
        "dataframeName": "_sqldf",
        "executionCount": 25
       },
       "overflow": false,
       "plotOptions": {
        "customPlotOptions": {},
        "displayType": "table",
        "pivotAggregation": null,
        "pivotColumns": null,
        "xColumns": null,
        "yColumns": null
       },
       "removedWidgets": [],
       "schema": [
        {
         "metadata": "{}",
         "name": "dateUpdated",
         "type": "\"date\""
        },
        {
         "metadata": "{}",
         "name": "idLeague",
         "type": "\"integer\""
        },
        {
         "metadata": "{}",
         "name": "idTeam",
         "type": "\"integer\""
        },
        {
         "metadata": "{}",
         "name": "intDraw",
         "type": "\"integer\""
        },
        {
         "metadata": "{}",
         "name": "intGoalDifference",
         "type": "\"integer\""
        },
        {
         "metadata": "{}",
         "name": "intGoalsAgainst",
         "type": "\"integer\""
        },
        {
         "metadata": "{}",
         "name": "intGoalsFor",
         "type": "\"integer\""
        },
        {
         "metadata": "{}",
         "name": "intLoss",
         "type": "\"integer\""
        },
        {
         "metadata": "{}",
         "name": "intPlayed",
         "type": "\"integer\""
        },
        {
         "metadata": "{}",
         "name": "intPoints",
         "type": "\"integer\""
        },
        {
         "metadata": "{}",
         "name": "intRank",
         "type": "\"integer\""
        },
        {
         "metadata": "{}",
         "name": "intWin",
         "type": "\"integer\""
        },
        {
         "metadata": "{}",
         "name": "intSeason",
         "type": "\"integer\""
        },
        {
         "metadata": "{}",
         "name": "hash_value",
         "type": "\"string\""
        },
        {
         "metadata": "{}",
         "name": "upload_silver",
         "type": "\"timestamp\""
        }
       ],
       "type": "table"
      }
     },
     "output_type": "display_data"
    }
   ],
   "source": [
    "%sql\n",
    "SELECT * FROM brasileirao_medallion.silver.dim_facts_silver;"
   ]
  },
  {
   "cell_type": "code",
   "execution_count": 0,
   "metadata": {
    "application/vnd.databricks.v1+cell": {
     "cellMetadata": {
      "byteLimit": 2048000,
      "rowLimit": 10000
     },
     "inputWidgets": {},
     "nuid": "2fdec79e-cd12-40f4-b521-2e6e485d8e72",
     "showTitle": false,
     "tableResultSettingsMap": {},
     "title": ""
    }
   },
   "outputs": [],
   "source": []
  }
 ],
 "metadata": {
  "application/vnd.databricks.v1+notebook": {
   "computePreferences": null,
   "dashboards": [],
   "environmentMetadata": {
    "base_environment": "",
    "environment_version": "2"
   },
   "inputWidgetPreferences": null,
   "language": "python",
   "notebookMetadata": {
    "mostRecentlyExecutedCommandWithImplicitDF": {
     "commandId": 7737489924289729,
     "dataframes": [
      "_sqldf"
     ]
    },
    "pythonIndentUnit": 4
   },
   "notebookName": "Bronze_Silver",
   "widgets": {}
  },
  "language_info": {
   "name": "python"
  }
 },
 "nbformat": 4,
 "nbformat_minor": 0
}
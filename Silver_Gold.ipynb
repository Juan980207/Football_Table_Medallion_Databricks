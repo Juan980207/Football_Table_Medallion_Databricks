{
 "cells": [
  {
   "cell_type": "code",
   "execution_count": 0,
   "metadata": {
    "application/vnd.databricks.v1+cell": {
     "cellMetadata": {
      "byteLimit": 2048000,
      "rowLimit": 10000
     },
     "inputWidgets": {},
     "nuid": "bf5590bf-c6b8-4853-bad9-2a1d21e651f8",
     "showTitle": false,
     "tableResultSettingsMap": {},
     "title": ""
    }
   },
   "outputs": [
    {
     "output_type": "display_data",
     "data": {
      "text/plain": [
       "\u001B[0;31m---------------------------------------------------------------------------\u001B[0m\n",
       "\u001B[0;31mImportError\u001B[0m                               Traceback (most recent call last)\n",
       "File \u001B[0;32m<command-8828684229213463>, line 3\u001B[0m\n",
       "\u001B[1;32m      1\u001B[0m \u001B[38;5;28;01mfrom\u001B[39;00m \u001B[38;5;21;01mpyspark\u001B[39;00m\u001B[38;5;21;01m.\u001B[39;00m\u001B[38;5;21;01msql\u001B[39;00m \u001B[38;5;28;01mimport\u001B[39;00m functions \u001B[38;5;28;01mas\u001B[39;00m F\n",
       "\u001B[1;32m      2\u001B[0m \u001B[38;5;28;01mfrom\u001B[39;00m \u001B[38;5;21;01mpyspark\u001B[39;00m\u001B[38;5;21;01m.\u001B[39;00m\u001B[38;5;21;01msql\u001B[39;00m\u001B[38;5;21;01m.\u001B[39;00m\u001B[38;5;21;01mtypes\u001B[39;00m \u001B[38;5;28;01mimport\u001B[39;00m StructType, StructField, StringType, IntegerType, DoubleType, DateType\n",
       "\u001B[0;32m----> 3\u001B[0m \u001B[38;5;28;01mfrom\u001B[39;00m \u001B[38;5;21;01mpyspark\u001B[39;00m\u001B[38;5;21;01m.\u001B[39;00m\u001B[38;5;21;01msql\u001B[39;00m\u001B[38;5;21;01m.\u001B[39;00m\u001B[38;5;21;01mfunctions\u001B[39;00m \u001B[38;5;28;01mimport\u001B[39;00m sha2, substring, \u001B[38;5;28mmax\u001B[39m, collect\n",
       "\u001B[1;32m      4\u001B[0m \u001B[38;5;28;01mfrom\u001B[39;00m \u001B[38;5;21;01mdelta\u001B[39;00m\u001B[38;5;21;01m.\u001B[39;00m\u001B[38;5;21;01mtables\u001B[39;00m \u001B[38;5;28;01mimport\u001B[39;00m DeltaTable\n",
       "\n",
       "\u001B[0;31mImportError\u001B[0m: cannot import name 'collect' from 'pyspark.sql.functions' (/databricks/python/lib/python3.11/site-packages/pyspark/sql/functions/__init__.py)"
      ]
     },
     "metadata": {
      "application/vnd.databricks.v1+output": {
       "addedWidgets": {},
       "arguments": {},
       "datasetInfos": [],
       "jupyterProps": {
        "ename": "ImportError",
        "evalue": "cannot import name 'collect' from 'pyspark.sql.functions' (/databricks/python/lib/python3.11/site-packages/pyspark/sql/functions/__init__.py)"
       },
       "metadata": {
        "errorSummary": "<span class='ansi-red-fg'>ImportError</span>: cannot import name 'collect' from 'pyspark.sql.functions' (/databricks/python/lib/python3.11/site-packages/pyspark/sql/functions/__init__.py)"
       },
       "removedWidgets": [],
       "sqlProps": null,
       "stackFrames": [
        "\u001B[0;31m---------------------------------------------------------------------------\u001B[0m",
        "\u001B[0;31mImportError\u001B[0m                               Traceback (most recent call last)",
        "File \u001B[0;32m<command-8828684229213463>, line 3\u001B[0m\n\u001B[1;32m      1\u001B[0m \u001B[38;5;28;01mfrom\u001B[39;00m \u001B[38;5;21;01mpyspark\u001B[39;00m\u001B[38;5;21;01m.\u001B[39;00m\u001B[38;5;21;01msql\u001B[39;00m \u001B[38;5;28;01mimport\u001B[39;00m functions \u001B[38;5;28;01mas\u001B[39;00m F\n\u001B[1;32m      2\u001B[0m \u001B[38;5;28;01mfrom\u001B[39;00m \u001B[38;5;21;01mpyspark\u001B[39;00m\u001B[38;5;21;01m.\u001B[39;00m\u001B[38;5;21;01msql\u001B[39;00m\u001B[38;5;21;01m.\u001B[39;00m\u001B[38;5;21;01mtypes\u001B[39;00m \u001B[38;5;28;01mimport\u001B[39;00m StructType, StructField, StringType, IntegerType, DoubleType, DateType\n\u001B[0;32m----> 3\u001B[0m \u001B[38;5;28;01mfrom\u001B[39;00m \u001B[38;5;21;01mpyspark\u001B[39;00m\u001B[38;5;21;01m.\u001B[39;00m\u001B[38;5;21;01msql\u001B[39;00m\u001B[38;5;21;01m.\u001B[39;00m\u001B[38;5;21;01mfunctions\u001B[39;00m \u001B[38;5;28;01mimport\u001B[39;00m sha2, substring, \u001B[38;5;28mmax\u001B[39m, collect\n\u001B[1;32m      4\u001B[0m \u001B[38;5;28;01mfrom\u001B[39;00m \u001B[38;5;21;01mdelta\u001B[39;00m\u001B[38;5;21;01m.\u001B[39;00m\u001B[38;5;21;01mtables\u001B[39;00m \u001B[38;5;28;01mimport\u001B[39;00m DeltaTable\n",
        "\u001B[0;31mImportError\u001B[0m: cannot import name 'collect' from 'pyspark.sql.functions' (/databricks/python/lib/python3.11/site-packages/pyspark/sql/functions/__init__.py)"
       ],
       "type": "baseError"
      }
     },
     "output_type": "display_data"
    }
   ],
   "source": [
    "from pyspark.sql import functions as F\n",
    "from pyspark.sql.types import StructType, StructField, StringType, IntegerType, DoubleType, DateType\n",
    "from pyspark.sql.functions import sha2, substring, max\n",
    "from delta.tables import DeltaTable"
   ]
  },
  {
   "cell_type": "code",
   "execution_count": 0,
   "metadata": {
    "application/vnd.databricks.v1+cell": {
     "cellMetadata": {
      "byteLimit": 2048000,
      "implicitDf": true,
      "rowLimit": 10000
     },
     "inputWidgets": {},
     "nuid": "e38ec842-4168-4ec9-b954-f92afcc7d421",
     "showTitle": false,
     "tableResultSettingsMap": {},
     "title": ""
    }
   },
   "outputs": [
    {
     "output_type": "display_data",
     "data": {
      "text/html": [
       "<style scoped>\n",
       "  .table-result-container {\n",
       "    max-height: 300px;\n",
       "    overflow: auto;\n",
       "  }\n",
       "  table, th, td {\n",
       "    border: 1px solid black;\n",
       "    border-collapse: collapse;\n",
       "  }\n",
       "  th, td {\n",
       "    padding: 5px;\n",
       "  }\n",
       "  th {\n",
       "    text-align: left;\n",
       "  }\n",
       "</style><div class='table-result-container'><table class='table-result'><thead style='background-color: white'><tr><th>dateUpdated</th><th>idLeague</th><th>idTeam</th><th>intDraw</th><th>intGoalDifference</th><th>intGoalsAgainst</th><th>intGoalsFor</th><th>intLoss</th><th>intPlayed</th><th>intPoints</th><th>intRank</th><th>intWin</th><th>intSeason</th><th>hash_value</th><th>upload_silver</th></tr></thead><tbody><tr><td>2025-08-06</td><td>4351</td><td>134293</td><td>5</td><td>7</td><td>13</td><td>20</td><td>3</td><td>16</td><td>29</td><td>4</td><td>8</td><td>2025</td><td>0b2fc04e29f527c2d53cbf46b6b9a6d2500173a59c60f729d2789a70d869d8a1</td><td>2025-08-06T17:31:47.748Z</td></tr><tr><td>2025-08-06</td><td>4351</td><td>141181</td><td>7</td><td>11</td><td>16</td><td>27</td><td>2</td><td>16</td><td>28</td><td>5</td><td>7</td><td>2025</td><td>6e5cfa01b9544b59e377cc784efc52d2a8decd80c4ea652eba2ef545de4a21b8</td><td>2025-08-06T17:31:47.748Z</td></tr><tr><td>2025-08-06</td><td>4351</td><td>134294</td><td>4</td><td>19</td><td>11</td><td>30</td><td>3</td><td>18</td><td>37</td><td>2</td><td>11</td><td>2025</td><td>aa064b04917092ee4f8a98f5dac63893b5d4d684e69ddce99ab072e361fb49cc</td><td>2025-08-06T17:31:47.748Z</td></tr><tr><td>2025-08-06</td><td>4351</td><td>134465</td><td>3</td><td>7</td><td>14</td><td>21</td><td>3</td><td>16</td><td>33</td><td>3</td><td>10</td><td>2025</td><td>6802e49a2f90a1b7e167fc54797504fa837ca51d357c9bc4ff38b22331324476</td><td>2025-08-06T17:31:47.748Z</td></tr><tr><td>2025-08-06</td><td>4351</td><td>134287</td><td>4</td><td>24</td><td>7</td><td>31</td><td>2</td><td>17</td><td>37</td><td>1</td><td>11</td><td>2025</td><td>c77cbe35357c5ba5900a0b671f4f3a8cc3bd5d3dc4ca4ee727e853ac96d1b736</td><td>2025-08-06T17:31:47.748Z</td></tr><tr><td>2025-08-04</td><td>4351</td><td>134293</td><td>5</td><td>7</td><td>13</td><td>20</td><td>3</td><td>16</td><td>29</td><td>4</td><td>8</td><td>2025</td><td>0b2fc04e29f527c2d53cbf46b6b9a6d2500173a59c60f729d2789a70d869d8a1</td><td>2025-08-04T20:20:38.350Z</td></tr><tr><td>2025-08-04</td><td>4351</td><td>134294</td><td>4</td><td>17</td><td>11</td><td>28</td><td>3</td><td>17</td><td>34</td><td>2</td><td>10</td><td>2025</td><td>21b8c70d1c4f5d027be5398b8e3df77958818f8603804a0da9e3f70b481b0649</td><td>2025-08-04T20:20:38.350Z</td></tr><tr><td>2025-08-04</td><td>4351</td><td>134287</td><td>3</td><td>24</td><td>6</td><td>30</td><td>2</td><td>16</td><td>36</td><td>1</td><td>11</td><td>2025</td><td>0e91a3601efb147216ce985956c4e278406ea644af8b8b09fffd17f06da544bb</td><td>2025-08-04T20:20:38.350Z</td></tr><tr><td>2025-08-04</td><td>4351</td><td>141181</td><td>7</td><td>11</td><td>16</td><td>27</td><td>2</td><td>16</td><td>28</td><td>5</td><td>7</td><td>2025</td><td>6e5cfa01b9544b59e377cc784efc52d2a8decd80c4ea652eba2ef545de4a21b8</td><td>2025-08-04T20:20:38.350Z</td></tr><tr><td>2025-08-04</td><td>4351</td><td>134465</td><td>2</td><td>7</td><td>12</td><td>19</td><td>3</td><td>15</td><td>32</td><td>3</td><td>10</td><td>2025</td><td>e2bc45d694b870e2d65d7020e48235a7b4ed6931fe0b0b459f4da53a3e73a14c</td><td>2025-08-04T20:20:38.350Z</td></tr><tr><td>2025-08-05</td><td>4351</td><td>134287</td><td>3</td><td>24</td><td>6</td><td>30</td><td>2</td><td>16</td><td>36</td><td>1</td><td>11</td><td>2025</td><td>0e91a3601efb147216ce985956c4e278406ea644af8b8b09fffd17f06da544bb</td><td>2025-08-05T14:19:14.328Z</td></tr><tr><td>2025-08-05</td><td>4351</td><td>141181</td><td>7</td><td>11</td><td>16</td><td>27</td><td>2</td><td>16</td><td>28</td><td>5</td><td>7</td><td>2025</td><td>6e5cfa01b9544b59e377cc784efc52d2a8decd80c4ea652eba2ef545de4a21b8</td><td>2025-08-05T14:19:14.328Z</td></tr><tr><td>2025-08-05</td><td>4351</td><td>134293</td><td>5</td><td>7</td><td>13</td><td>20</td><td>3</td><td>16</td><td>29</td><td>4</td><td>8</td><td>2025</td><td>0b2fc04e29f527c2d53cbf46b6b9a6d2500173a59c60f729d2789a70d869d8a1</td><td>2025-08-05T14:19:14.328Z</td></tr><tr><td>2025-08-05</td><td>4351</td><td>134465</td><td>2</td><td>7</td><td>12</td><td>19</td><td>3</td><td>15</td><td>32</td><td>3</td><td>10</td><td>2025</td><td>e2bc45d694b870e2d65d7020e48235a7b4ed6931fe0b0b459f4da53a3e73a14c</td><td>2025-08-05T14:19:14.328Z</td></tr><tr><td>2025-08-05</td><td>4351</td><td>134294</td><td>4</td><td>17</td><td>11</td><td>28</td><td>3</td><td>17</td><td>34</td><td>2</td><td>10</td><td>2025</td><td>21b8c70d1c4f5d027be5398b8e3df77958818f8603804a0da9e3f70b481b0649</td><td>2025-08-05T14:19:14.328Z</td></tr></tbody></table></div>"
      ]
     },
     "metadata": {
      "application/vnd.databricks.v1+output": {
       "addedWidgets": {},
       "aggData": [],
       "aggError": "",
       "aggOverflow": false,
       "aggSchema": [],
       "aggSeriesLimitReached": false,
       "aggType": "",
       "arguments": {},
       "columnCustomDisplayInfos": {},
       "data": [
        [
         "2025-08-06",
         4351,
         134293,
         5,
         7,
         13,
         20,
         3,
         16,
         29,
         4,
         8,
         2025,
         "0b2fc04e29f527c2d53cbf46b6b9a6d2500173a59c60f729d2789a70d869d8a1",
         "2025-08-06T17:31:47.748Z"
        ],
        [
         "2025-08-06",
         4351,
         141181,
         7,
         11,
         16,
         27,
         2,
         16,
         28,
         5,
         7,
         2025,
         "6e5cfa01b9544b59e377cc784efc52d2a8decd80c4ea652eba2ef545de4a21b8",
         "2025-08-06T17:31:47.748Z"
        ],
        [
         "2025-08-06",
         4351,
         134294,
         4,
         19,
         11,
         30,
         3,
         18,
         37,
         2,
         11,
         2025,
         "aa064b04917092ee4f8a98f5dac63893b5d4d684e69ddce99ab072e361fb49cc",
         "2025-08-06T17:31:47.748Z"
        ],
        [
         "2025-08-06",
         4351,
         134465,
         3,
         7,
         14,
         21,
         3,
         16,
         33,
         3,
         10,
         2025,
         "6802e49a2f90a1b7e167fc54797504fa837ca51d357c9bc4ff38b22331324476",
         "2025-08-06T17:31:47.748Z"
        ],
        [
         "2025-08-06",
         4351,
         134287,
         4,
         24,
         7,
         31,
         2,
         17,
         37,
         1,
         11,
         2025,
         "c77cbe35357c5ba5900a0b671f4f3a8cc3bd5d3dc4ca4ee727e853ac96d1b736",
         "2025-08-06T17:31:47.748Z"
        ],
        [
         "2025-08-04",
         4351,
         134293,
         5,
         7,
         13,
         20,
         3,
         16,
         29,
         4,
         8,
         2025,
         "0b2fc04e29f527c2d53cbf46b6b9a6d2500173a59c60f729d2789a70d869d8a1",
         "2025-08-04T20:20:38.350Z"
        ],
        [
         "2025-08-04",
         4351,
         134294,
         4,
         17,
         11,
         28,
         3,
         17,
         34,
         2,
         10,
         2025,
         "21b8c70d1c4f5d027be5398b8e3df77958818f8603804a0da9e3f70b481b0649",
         "2025-08-04T20:20:38.350Z"
        ],
        [
         "2025-08-04",
         4351,
         134287,
         3,
         24,
         6,
         30,
         2,
         16,
         36,
         1,
         11,
         2025,
         "0e91a3601efb147216ce985956c4e278406ea644af8b8b09fffd17f06da544bb",
         "2025-08-04T20:20:38.350Z"
        ],
        [
         "2025-08-04",
         4351,
         141181,
         7,
         11,
         16,
         27,
         2,
         16,
         28,
         5,
         7,
         2025,
         "6e5cfa01b9544b59e377cc784efc52d2a8decd80c4ea652eba2ef545de4a21b8",
         "2025-08-04T20:20:38.350Z"
        ],
        [
         "2025-08-04",
         4351,
         134465,
         2,
         7,
         12,
         19,
         3,
         15,
         32,
         3,
         10,
         2025,
         "e2bc45d694b870e2d65d7020e48235a7b4ed6931fe0b0b459f4da53a3e73a14c",
         "2025-08-04T20:20:38.350Z"
        ],
        [
         "2025-08-05",
         4351,
         134287,
         3,
         24,
         6,
         30,
         2,
         16,
         36,
         1,
         11,
         2025,
         "0e91a3601efb147216ce985956c4e278406ea644af8b8b09fffd17f06da544bb",
         "2025-08-05T14:19:14.328Z"
        ],
        [
         "2025-08-05",
         4351,
         141181,
         7,
         11,
         16,
         27,
         2,
         16,
         28,
         5,
         7,
         2025,
         "6e5cfa01b9544b59e377cc784efc52d2a8decd80c4ea652eba2ef545de4a21b8",
         "2025-08-05T14:19:14.328Z"
        ],
        [
         "2025-08-05",
         4351,
         134293,
         5,
         7,
         13,
         20,
         3,
         16,
         29,
         4,
         8,
         2025,
         "0b2fc04e29f527c2d53cbf46b6b9a6d2500173a59c60f729d2789a70d869d8a1",
         "2025-08-05T14:19:14.328Z"
        ],
        [
         "2025-08-05",
         4351,
         134465,
         2,
         7,
         12,
         19,
         3,
         15,
         32,
         3,
         10,
         2025,
         "e2bc45d694b870e2d65d7020e48235a7b4ed6931fe0b0b459f4da53a3e73a14c",
         "2025-08-05T14:19:14.328Z"
        ],
        [
         "2025-08-05",
         4351,
         134294,
         4,
         17,
         11,
         28,
         3,
         17,
         34,
         2,
         10,
         2025,
         "21b8c70d1c4f5d027be5398b8e3df77958818f8603804a0da9e3f70b481b0649",
         "2025-08-05T14:19:14.328Z"
        ]
       ],
       "datasetInfos": [
        {
         "name": "_sqldf",
         "schema": {
          "fields": [
           {
            "metadata": {},
            "name": "dateUpdated",
            "nullable": true,
            "type": "date"
           },
           {
            "metadata": {},
            "name": "idLeague",
            "nullable": true,
            "type": "integer"
           },
           {
            "metadata": {},
            "name": "idTeam",
            "nullable": true,
            "type": "integer"
           },
           {
            "metadata": {},
            "name": "intDraw",
            "nullable": true,
            "type": "integer"
           },
           {
            "metadata": {},
            "name": "intGoalDifference",
            "nullable": true,
            "type": "integer"
           },
           {
            "metadata": {},
            "name": "intGoalsAgainst",
            "nullable": true,
            "type": "integer"
           },
           {
            "metadata": {},
            "name": "intGoalsFor",
            "nullable": true,
            "type": "integer"
           },
           {
            "metadata": {},
            "name": "intLoss",
            "nullable": true,
            "type": "integer"
           },
           {
            "metadata": {},
            "name": "intPlayed",
            "nullable": true,
            "type": "integer"
           },
           {
            "metadata": {},
            "name": "intPoints",
            "nullable": true,
            "type": "integer"
           },
           {
            "metadata": {},
            "name": "intRank",
            "nullable": true,
            "type": "integer"
           },
           {
            "metadata": {},
            "name": "intWin",
            "nullable": true,
            "type": "integer"
           },
           {
            "metadata": {},
            "name": "intSeason",
            "nullable": true,
            "type": "integer"
           },
           {
            "metadata": {},
            "name": "hash_value",
            "nullable": true,
            "type": "string"
           },
           {
            "metadata": {},
            "name": "upload_silver",
            "nullable": true,
            "type": "timestamp"
           }
          ],
          "type": "struct"
         },
         "tableIdentifier": null,
         "typeStr": "pyspark.sql.connect.dataframe.DataFrame"
        }
       ],
       "dbfsResultPath": null,
       "isJsonSchema": true,
       "metadata": {
        "createTempViewForImplicitDf": true,
        "dataframeName": "_sqldf",
        "executionCount": 9
       },
       "overflow": false,
       "plotOptions": {
        "customPlotOptions": {},
        "displayType": "table",
        "pivotAggregation": null,
        "pivotColumns": null,
        "xColumns": null,
        "yColumns": null
       },
       "removedWidgets": [],
       "schema": [
        {
         "metadata": "{}",
         "name": "dateUpdated",
         "type": "\"date\""
        },
        {
         "metadata": "{}",
         "name": "idLeague",
         "type": "\"integer\""
        },
        {
         "metadata": "{}",
         "name": "idTeam",
         "type": "\"integer\""
        },
        {
         "metadata": "{}",
         "name": "intDraw",
         "type": "\"integer\""
        },
        {
         "metadata": "{}",
         "name": "intGoalDifference",
         "type": "\"integer\""
        },
        {
         "metadata": "{}",
         "name": "intGoalsAgainst",
         "type": "\"integer\""
        },
        {
         "metadata": "{}",
         "name": "intGoalsFor",
         "type": "\"integer\""
        },
        {
         "metadata": "{}",
         "name": "intLoss",
         "type": "\"integer\""
        },
        {
         "metadata": "{}",
         "name": "intPlayed",
         "type": "\"integer\""
        },
        {
         "metadata": "{}",
         "name": "intPoints",
         "type": "\"integer\""
        },
        {
         "metadata": "{}",
         "name": "intRank",
         "type": "\"integer\""
        },
        {
         "metadata": "{}",
         "name": "intWin",
         "type": "\"integer\""
        },
        {
         "metadata": "{}",
         "name": "intSeason",
         "type": "\"integer\""
        },
        {
         "metadata": "{}",
         "name": "hash_value",
         "type": "\"string\""
        },
        {
         "metadata": "{}",
         "name": "upload_silver",
         "type": "\"timestamp\""
        }
       ],
       "type": "table"
      }
     },
     "output_type": "display_data"
    }
   ],
   "source": [
    "%sql\n",
    "SELECT * FROM  brasileirao_medallion.silver.dim_facts_silver;"
   ]
  },
  {
   "cell_type": "code",
   "execution_count": 0,
   "metadata": {
    "application/vnd.databricks.v1+cell": {
     "cellMetadata": {
      "byteLimit": 2048000,
      "implicitDf": true,
      "rowLimit": 10000
     },
     "inputWidgets": {},
     "nuid": "dd3ac1a6-44e7-45dc-80b3-84cdc9de21c3",
     "showTitle": false,
     "tableResultSettingsMap": {},
     "title": ""
    }
   },
   "outputs": [],
   "source": [
    "%sql\n",
    "CREATE SCHEMA IF NOT EXISTS brasileirao_medallion.gold;"
   ]
  },
  {
   "cell_type": "code",
   "execution_count": 0,
   "metadata": {
    "application/vnd.databricks.v1+cell": {
     "cellMetadata": {
      "byteLimit": 2048000,
      "implicitDf": true,
      "rowLimit": 10000
     },
     "inputWidgets": {},
     "nuid": "5b1144a4-f545-4757-b9be-dcc572fcb458",
     "showTitle": false,
     "tableResultSettingsMap": {},
     "title": ""
    }
   },
   "outputs": [],
   "source": [
    "%sql\n",
    "CREATE OR REPLACE TABLE  brasileirao_medallion.gold.power_bi_gold (\n",
    "    idTeam integer,\n",
    "    idLeague integer,\n",
    "    strTeam string,\n",
    "    strLeague string,\n",
    "    strBadge string,\n",
    "    intWin integer,\n",
    "    intLoss integer,\n",
    "    intDraw integer,\n",
    "    intPts integer,\n",
    "    intGoalDifference integer,\n",
    "    intGoalsFor integer,\n",
    "    intGoalsAgainst integer,\n",
    "    intPlayed integer,\n",
    "    intRank integer,\n",
    "    intSeason integer,\n",
    "    dateUpdated date,\n",
    "    hash_value string,\n",
    "    upload_gold timestamp\n",
    ") \n",
    "USING DELTA;"
   ]
  },
  {
   "cell_type": "code",
   "execution_count": 0,
   "metadata": {
    "application/vnd.databricks.v1+cell": {
     "cellMetadata": {
      "byteLimit": 2048000,
      "rowLimit": 10000
     },
     "inputWidgets": {},
     "nuid": "6dc38af2-9622-4d64-aa83-745af3462cc9",
     "showTitle": false,
     "tableResultSettingsMap": {},
     "title": ""
    }
   },
   "outputs": [
    {
     "output_type": "execute_result",
     "data": {
      "text/plain": [
       "datetime.date(2025, 8, 6)"
      ]
     },
     "execution_count": 35,
     "metadata": {},
     "output_type": "execute_result"
    }
   ],
   "source": []
  },
  {
   "cell_type": "code",
   "execution_count": 0,
   "metadata": {
    "application/vnd.databricks.v1+cell": {
     "cellMetadata": {
      "byteLimit": 2048000,
      "rowLimit": 10000
     },
     "inputWidgets": {},
     "nuid": "65c5daed-a21f-4156-819c-58ab8d8b3051",
     "showTitle": false,
     "tableResultSettingsMap": {},
     "title": ""
    }
   },
   "outputs": [],
   "source": [
    "new_data_teams=spark.read.table('brasileirao_medallion.silver.dim_teams_silver').select(['idTeam','strTeam','strBadge'])\n",
    "new_data_leagues=spark.read.table('brasileirao_medallion.silver.dim_leagues_silver').select(['idLeague','strLeague'])\n",
    "\n",
    "new_data_facts=spark.read.table('brasileirao_medallion.silver.dim_facts_silver').select(['idLeague','idTeam','intWin','intLoss','intDraw','intPoints','intRank','intPlayed','intGoalDifference','intGoalsFor','intGoalsAgainst','intSeason','dateUpdated'])\n",
    "new_data_facts=new_data_facts.withColumn('intPts',F.col('intWin')*3+F.col('intDraw'))\n",
    "new_data_facts=new_data_facts.withColumn('hash_value',sha2(F.concat(F.col('idLeague'),F.col('idTeam'),F.col('intSeason')), 256))\n",
    "last_date=new_data_facts.agg(max(F.col('dateUpdated'))).collect()[0][0]\n",
    "new_data_facts=new_data_facts.filter(F.col('dateUpdated')==last_date)\n",
    "new_data_facts=new_data_facts.withColumn('upload_gold',F.current_timestamp())"
   ]
  },
  {
   "cell_type": "code",
   "execution_count": 0,
   "metadata": {
    "application/vnd.databricks.v1+cell": {
     "cellMetadata": {
      "byteLimit": 2048000,
      "rowLimit": 10000
     },
     "inputWidgets": {},
     "nuid": "93cf9852-e7bd-4d93-84e6-28508d1a17a5",
     "showTitle": false,
     "tableResultSettingsMap": {},
     "title": ""
    }
   },
   "outputs": [],
   "source": [
    "final_table=new_data_facts.join(new_data_teams,on=\"idTeam\",how='inner').join(new_data_leagues,on='idLeague',how='inner')"
   ]
  },
  {
   "cell_type": "code",
   "execution_count": 0,
   "metadata": {
    "application/vnd.databricks.v1+cell": {
     "cellMetadata": {
      "byteLimit": 2048000,
      "rowLimit": 10000
     },
     "inputWidgets": {},
     "nuid": "77f0c617-b319-4805-ae4f-723e4a9d6b99",
     "showTitle": false,
     "tableResultSettingsMap": {},
     "title": ""
    }
   },
   "outputs": [
    {
     "output_type": "display_data",
     "data": {
      "text/html": [
       "<style scoped>\n",
       "  .table-result-container {\n",
       "    max-height: 300px;\n",
       "    overflow: auto;\n",
       "  }\n",
       "  table, th, td {\n",
       "    border: 1px solid black;\n",
       "    border-collapse: collapse;\n",
       "  }\n",
       "  th, td {\n",
       "    padding: 5px;\n",
       "  }\n",
       "  th {\n",
       "    text-align: left;\n",
       "  }\n",
       "</style><div class='table-result-container'><table class='table-result'><thead style='background-color: white'><tr><th>idLeague</th><th>idTeam</th><th>intWin</th><th>intLoss</th><th>intDraw</th><th>intPoints</th><th>intRank</th><th>intPlayed</th><th>intGoalDifference</th><th>intGoalsFor</th><th>intGoalsAgainst</th><th>intSeason</th><th>dateUpdated</th><th>intPts</th><th>hash_value</th><th>upload_gold</th><th>strTeam</th><th>strBadge</th><th>strLeague</th></tr></thead><tbody><tr><td>4351</td><td>134293</td><td>8</td><td>3</td><td>5</td><td>29</td><td>4</td><td>16</td><td>7</td><td>20</td><td>13</td><td>2025</td><td>2025-08-06</td><td>29</td><td>b1c2ff7441735935629294ea13da7c199bc895072cc198775d619310e77a86be</td><td>2025-08-06T20:32:26.796Z</td><td>Bahia</td><td>https://r2.thesportsdb.com/images/media/team/badge/xuvtsv1473539308.png/tiny</td><td>Brazilian Serie A</td></tr><tr><td>4351</td><td>134294</td><td>11</td><td>3</td><td>4</td><td>37</td><td>2</td><td>18</td><td>19</td><td>30</td><td>11</td><td>2025</td><td>2025-08-06</td><td>37</td><td>b997ae8290acc5453375ff72426909ca457a0f3472a04394505456685a64f3e6</td><td>2025-08-06T20:32:26.796Z</td><td>Cruzeiro</td><td>https://r2.thesportsdb.com/images/media/team/badge/upsvvu1473538059.png/tiny</td><td>Brazilian Serie A</td></tr><tr><td>4351</td><td>134287</td><td>11</td><td>2</td><td>4</td><td>37</td><td>1</td><td>17</td><td>24</td><td>31</td><td>7</td><td>2025</td><td>2025-08-06</td><td>37</td><td>9558c6c4e1e65caee05f25d1d09c1155747cfd18c45e28d699270f5ce2b11f54</td><td>2025-08-06T20:32:26.796Z</td><td>Flamengo</td><td>https://r2.thesportsdb.com/images/media/team/badge/syptwx1473538074.png/tiny</td><td>Brazilian Serie A</td></tr><tr><td>4351</td><td>141181</td><td>7</td><td>2</td><td>7</td><td>28</td><td>5</td><td>16</td><td>11</td><td>27</td><td>16</td><td>2025</td><td>2025-08-06</td><td>28</td><td>2ed0295f949f21b30122f4f66f854f65c1e00b2ffbc3eca070093ff52fe0a0c6</td><td>2025-08-06T20:32:26.796Z</td><td>Mirassol</td><td>https://r2.thesportsdb.com/images/media/team/badge/tfth1h1617198957.png/tiny</td><td>Brazilian Serie A</td></tr><tr><td>4351</td><td>134465</td><td>10</td><td>3</td><td>3</td><td>33</td><td>3</td><td>16</td><td>7</td><td>21</td><td>14</td><td>2025</td><td>2025-08-06</td><td>33</td><td>00f0f28571be816c40f8f07b0cc0c092e872a34ce6838acd4cc57736da1eb8c4</td><td>2025-08-06T20:32:26.796Z</td><td>Palmeiras</td><td>https://r2.thesportsdb.com/images/media/team/badge/vsqwqp1473538105.png/tiny</td><td>Brazilian Serie A</td></tr></tbody></table></div>"
      ]
     },
     "metadata": {
      "application/vnd.databricks.v1+output": {
       "addedWidgets": {},
       "aggData": [],
       "aggError": "",
       "aggOverflow": false,
       "aggSchema": [],
       "aggSeriesLimitReached": false,
       "aggType": "",
       "arguments": {},
       "columnCustomDisplayInfos": {},
       "data": [
        [
         4351,
         134293,
         8,
         3,
         5,
         29,
         4,
         16,
         7,
         20,
         13,
         2025,
         "2025-08-06",
         29,
         "b1c2ff7441735935629294ea13da7c199bc895072cc198775d619310e77a86be",
         "2025-08-06T20:32:26.796Z",
         "Bahia",
         "https://r2.thesportsdb.com/images/media/team/badge/xuvtsv1473539308.png/tiny",
         "Brazilian Serie A"
        ],
        [
         4351,
         134294,
         11,
         3,
         4,
         37,
         2,
         18,
         19,
         30,
         11,
         2025,
         "2025-08-06",
         37,
         "b997ae8290acc5453375ff72426909ca457a0f3472a04394505456685a64f3e6",
         "2025-08-06T20:32:26.796Z",
         "Cruzeiro",
         "https://r2.thesportsdb.com/images/media/team/badge/upsvvu1473538059.png/tiny",
         "Brazilian Serie A"
        ],
        [
         4351,
         134287,
         11,
         2,
         4,
         37,
         1,
         17,
         24,
         31,
         7,
         2025,
         "2025-08-06",
         37,
         "9558c6c4e1e65caee05f25d1d09c1155747cfd18c45e28d699270f5ce2b11f54",
         "2025-08-06T20:32:26.796Z",
         "Flamengo",
         "https://r2.thesportsdb.com/images/media/team/badge/syptwx1473538074.png/tiny",
         "Brazilian Serie A"
        ],
        [
         4351,
         141181,
         7,
         2,
         7,
         28,
         5,
         16,
         11,
         27,
         16,
         2025,
         "2025-08-06",
         28,
         "2ed0295f949f21b30122f4f66f854f65c1e00b2ffbc3eca070093ff52fe0a0c6",
         "2025-08-06T20:32:26.796Z",
         "Mirassol",
         "https://r2.thesportsdb.com/images/media/team/badge/tfth1h1617198957.png/tiny",
         "Brazilian Serie A"
        ],
        [
         4351,
         134465,
         10,
         3,
         3,
         33,
         3,
         16,
         7,
         21,
         14,
         2025,
         "2025-08-06",
         33,
         "00f0f28571be816c40f8f07b0cc0c092e872a34ce6838acd4cc57736da1eb8c4",
         "2025-08-06T20:32:26.796Z",
         "Palmeiras",
         "https://r2.thesportsdb.com/images/media/team/badge/vsqwqp1473538105.png/tiny",
         "Brazilian Serie A"
        ]
       ],
       "datasetInfos": [],
       "dbfsResultPath": null,
       "isJsonSchema": true,
       "metadata": {},
       "overflow": false,
       "plotOptions": {
        "customPlotOptions": {},
        "displayType": "table",
        "pivotAggregation": null,
        "pivotColumns": null,
        "xColumns": null,
        "yColumns": null
       },
       "removedWidgets": [],
       "schema": [
        {
         "metadata": "{}",
         "name": "idLeague",
         "type": "\"integer\""
        },
        {
         "metadata": "{}",
         "name": "idTeam",
         "type": "\"integer\""
        },
        {
         "metadata": "{}",
         "name": "intWin",
         "type": "\"integer\""
        },
        {
         "metadata": "{}",
         "name": "intLoss",
         "type": "\"integer\""
        },
        {
         "metadata": "{}",
         "name": "intDraw",
         "type": "\"integer\""
        },
        {
         "metadata": "{}",
         "name": "intPoints",
         "type": "\"integer\""
        },
        {
         "metadata": "{}",
         "name": "intRank",
         "type": "\"integer\""
        },
        {
         "metadata": "{}",
         "name": "intPlayed",
         "type": "\"integer\""
        },
        {
         "metadata": "{}",
         "name": "intGoalDifference",
         "type": "\"integer\""
        },
        {
         "metadata": "{}",
         "name": "intGoalsFor",
         "type": "\"integer\""
        },
        {
         "metadata": "{}",
         "name": "intGoalsAgainst",
         "type": "\"integer\""
        },
        {
         "metadata": "{}",
         "name": "intSeason",
         "type": "\"integer\""
        },
        {
         "metadata": "{}",
         "name": "dateUpdated",
         "type": "\"date\""
        },
        {
         "metadata": "{}",
         "name": "intPts",
         "type": "\"integer\""
        },
        {
         "metadata": "{}",
         "name": "hash_value",
         "type": "\"string\""
        },
        {
         "metadata": "{}",
         "name": "upload_gold",
         "type": "\"timestamp\""
        },
        {
         "metadata": "{}",
         "name": "strTeam",
         "type": "\"string\""
        },
        {
         "metadata": "{}",
         "name": "strBadge",
         "type": "\"string\""
        },
        {
         "metadata": "{}",
         "name": "strLeague",
         "type": "\"string\""
        }
       ],
       "type": "table"
      }
     },
     "output_type": "display_data"
    }
   ],
   "source": [
    "display(final_table)"
   ]
  },
  {
   "cell_type": "code",
   "execution_count": 0,
   "metadata": {
    "application/vnd.databricks.v1+cell": {
     "cellMetadata": {
      "byteLimit": 2048000,
      "rowLimit": 10000
     },
     "inputWidgets": {},
     "nuid": "269f5403-b347-4b52-bca7-af0677724c4d",
     "showTitle": false,
     "tableResultSettingsMap": {},
     "title": ""
    }
   },
   "outputs": [],
   "source": [
    "table_powerbi=DeltaTable.forName(spark,'brasileirao_medallion.gold.power_bi_gold')"
   ]
  },
  {
   "cell_type": "code",
   "execution_count": 0,
   "metadata": {
    "application/vnd.databricks.v1+cell": {
     "cellMetadata": {
      "byteLimit": 2048000,
      "rowLimit": 10000
     },
     "inputWidgets": {},
     "nuid": "10734920-1a87-49b5-bae3-e7241eaa4fb5",
     "showTitle": false,
     "tableResultSettingsMap": {},
     "title": ""
    }
   },
   "outputs": [
    {
     "output_type": "execute_result",
     "data": {
      "text/plain": [
       "DataFrame[num_affected_rows: bigint, num_updated_rows: bigint, num_deleted_rows: bigint, num_inserted_rows: bigint]"
      ]
     },
     "execution_count": 71,
     "metadata": {},
     "output_type": "execute_result"
    }
   ],
   "source": [
    "table_powerbi.alias(\"t\").merge(final_table.alias(\"s\"),\"t.idTeam=s.idTeam\").whenMatchedUpdate(condition=\"t.hash_value!=s.hash_value\",set={\"hash_value\":\"s.hash_value\",\"upload_gold\":\"s.upload_gold\",\"strTeam\":\"s.strTeam\",\"strBadge\":\"s.strBadge\",\"strLeague\":\"s.strLeague\",\"intPts\":\"s.intPts\",\"dateUpdated\":\"s.dateUpdated\",\"intWin\":\"s.intWin\",\"intLoss\":\"s.intLoss\",\"intDraw\":\"s.intDraw\",\"intRank\":\"s.intRank\",\"intPlayed\":\"s.intPlayed\",\"intGoalDifference\":\"s.intGoalDifference\",\"intGoalsFor\":\"s.intGoalsFor\",\"intGoalsAgainst\":\"s.intGoalsAgainst\",\"intSeason\":\"s.intSeason\"}).whenNotMatchedInsert(values={\"idLeague\":\"s.idLeague\",\"idTeam\":\"s.idTeam\",\"intWin\":\"s.intWin\",\"intLoss\":\"s.intLoss\",\"intDraw\":\"s.intDraw\",\"intPts\":\"s.intPts\",\"intRank\":\"s.intRank\",\"intPlayed\":\"s.intPlayed\",\"intGoalDifference\":\"s.intGoalDifference\",\"intGoalsFor\":\"s.intGoalsFor\",\"intGoalsAgainst\":\"s.intGoalsAgainst\",\"intSeason\":\"s.intSeason\",\"dateUpdated\":\"s.dateUpdated\",\"hash_value\":\"s.hash_value\",\"upload_gold\":\"s.upload_gold\",\"strTeam\":\"s.strTeam\",\"strBadge\":\"s.strBadge\",\"strLeague\":\"s.strLeague\"}).execute()"
   ]
  },
  {
   "cell_type": "code",
   "execution_count": 0,
   "metadata": {
    "application/vnd.databricks.v1+cell": {
     "cellMetadata": {
      "byteLimit": 2048000,
      "implicitDf": true,
      "rowLimit": 10000
     },
     "inputWidgets": {},
     "nuid": "40d2d0c1-e4f5-4ef8-9f26-d3331ee39096",
     "showTitle": false,
     "tableResultSettingsMap": {},
     "title": ""
    }
   },
   "outputs": [
    {
     "output_type": "display_data",
     "data": {
      "text/html": [
       "<style scoped>\n",
       "  .table-result-container {\n",
       "    max-height: 300px;\n",
       "    overflow: auto;\n",
       "  }\n",
       "  table, th, td {\n",
       "    border: 1px solid black;\n",
       "    border-collapse: collapse;\n",
       "  }\n",
       "  th, td {\n",
       "    padding: 5px;\n",
       "  }\n",
       "  th {\n",
       "    text-align: left;\n",
       "  }\n",
       "</style><div class='table-result-container'><table class='table-result'><thead style='background-color: white'><tr><th>idTeam</th><th>idLeague</th><th>strTeam</th><th>strLeague</th><th>strBadge</th><th>intWin</th><th>intLoss</th><th>intDraw</th><th>intPts</th><th>intGoalDifference</th><th>intGoalsFor</th><th>intGoalsAgainst</th><th>intPlayed</th><th>intRank</th><th>intSeason</th><th>dateUpdated</th><th>hash_value</th><th>upload_gold</th></tr></thead><tbody><tr><td>134293</td><td>4351</td><td>Bahia</td><td>Brazilian Serie A</td><td>https://r2.thesportsdb.com/images/media/team/badge/xuvtsv1473539308.png/tiny</td><td>8</td><td>3</td><td>5</td><td>29</td><td>7</td><td>20</td><td>13</td><td>16</td><td>4</td><td>2025</td><td>2025-08-06</td><td>b1c2ff7441735935629294ea13da7c199bc895072cc198775d619310e77a86be</td><td>2025-08-06T20:33:11.549Z</td></tr><tr><td>134294</td><td>4351</td><td>Cruzeiro</td><td>Brazilian Serie A</td><td>https://r2.thesportsdb.com/images/media/team/badge/upsvvu1473538059.png/tiny</td><td>11</td><td>3</td><td>4</td><td>37</td><td>19</td><td>30</td><td>11</td><td>18</td><td>2</td><td>2025</td><td>2025-08-06</td><td>b997ae8290acc5453375ff72426909ca457a0f3472a04394505456685a64f3e6</td><td>2025-08-06T20:33:11.549Z</td></tr><tr><td>134287</td><td>4351</td><td>Flamengo</td><td>Brazilian Serie A</td><td>https://r2.thesportsdb.com/images/media/team/badge/syptwx1473538074.png/tiny</td><td>11</td><td>2</td><td>4</td><td>37</td><td>24</td><td>31</td><td>7</td><td>17</td><td>1</td><td>2025</td><td>2025-08-06</td><td>9558c6c4e1e65caee05f25d1d09c1155747cfd18c45e28d699270f5ce2b11f54</td><td>2025-08-06T20:33:11.549Z</td></tr><tr><td>141181</td><td>4351</td><td>Mirassol</td><td>Brazilian Serie A</td><td>https://r2.thesportsdb.com/images/media/team/badge/tfth1h1617198957.png/tiny</td><td>7</td><td>2</td><td>7</td><td>28</td><td>11</td><td>27</td><td>16</td><td>16</td><td>5</td><td>2025</td><td>2025-08-06</td><td>2ed0295f949f21b30122f4f66f854f65c1e00b2ffbc3eca070093ff52fe0a0c6</td><td>2025-08-06T20:33:11.549Z</td></tr><tr><td>134465</td><td>4351</td><td>Palmeiras</td><td>Brazilian Serie A</td><td>https://r2.thesportsdb.com/images/media/team/badge/vsqwqp1473538105.png/tiny</td><td>10</td><td>3</td><td>3</td><td>33</td><td>7</td><td>21</td><td>14</td><td>16</td><td>3</td><td>2025</td><td>2025-08-06</td><td>00f0f28571be816c40f8f07b0cc0c092e872a34ce6838acd4cc57736da1eb8c4</td><td>2025-08-06T20:33:11.549Z</td></tr></tbody></table></div>"
      ]
     },
     "metadata": {
      "application/vnd.databricks.v1+output": {
       "addedWidgets": {},
       "aggData": [],
       "aggError": "",
       "aggOverflow": false,
       "aggSchema": [],
       "aggSeriesLimitReached": false,
       "aggType": "",
       "arguments": {},
       "columnCustomDisplayInfos": {},
       "data": [
        [
         134293,
         4351,
         "Bahia",
         "Brazilian Serie A",
         "https://r2.thesportsdb.com/images/media/team/badge/xuvtsv1473539308.png/tiny",
         8,
         3,
         5,
         29,
         7,
         20,
         13,
         16,
         4,
         2025,
         "2025-08-06",
         "b1c2ff7441735935629294ea13da7c199bc895072cc198775d619310e77a86be",
         "2025-08-06T20:33:11.549Z"
        ],
        [
         134294,
         4351,
         "Cruzeiro",
         "Brazilian Serie A",
         "https://r2.thesportsdb.com/images/media/team/badge/upsvvu1473538059.png/tiny",
         11,
         3,
         4,
         37,
         19,
         30,
         11,
         18,
         2,
         2025,
         "2025-08-06",
         "b997ae8290acc5453375ff72426909ca457a0f3472a04394505456685a64f3e6",
         "2025-08-06T20:33:11.549Z"
        ],
        [
         134287,
         4351,
         "Flamengo",
         "Brazilian Serie A",
         "https://r2.thesportsdb.com/images/media/team/badge/syptwx1473538074.png/tiny",
         11,
         2,
         4,
         37,
         24,
         31,
         7,
         17,
         1,
         2025,
         "2025-08-06",
         "9558c6c4e1e65caee05f25d1d09c1155747cfd18c45e28d699270f5ce2b11f54",
         "2025-08-06T20:33:11.549Z"
        ],
        [
         141181,
         4351,
         "Mirassol",
         "Brazilian Serie A",
         "https://r2.thesportsdb.com/images/media/team/badge/tfth1h1617198957.png/tiny",
         7,
         2,
         7,
         28,
         11,
         27,
         16,
         16,
         5,
         2025,
         "2025-08-06",
         "2ed0295f949f21b30122f4f66f854f65c1e00b2ffbc3eca070093ff52fe0a0c6",
         "2025-08-06T20:33:11.549Z"
        ],
        [
         134465,
         4351,
         "Palmeiras",
         "Brazilian Serie A",
         "https://r2.thesportsdb.com/images/media/team/badge/vsqwqp1473538105.png/tiny",
         10,
         3,
         3,
         33,
         7,
         21,
         14,
         16,
         3,
         2025,
         "2025-08-06",
         "00f0f28571be816c40f8f07b0cc0c092e872a34ce6838acd4cc57736da1eb8c4",
         "2025-08-06T20:33:11.549Z"
        ]
       ],
       "datasetInfos": [
        {
         "name": "_sqldf",
         "schema": {
          "fields": [
           {
            "metadata": {},
            "name": "idTeam",
            "nullable": true,
            "type": "integer"
           },
           {
            "metadata": {},
            "name": "idLeague",
            "nullable": true,
            "type": "integer"
           },
           {
            "metadata": {},
            "name": "strTeam",
            "nullable": true,
            "type": "string"
           },
           {
            "metadata": {},
            "name": "strLeague",
            "nullable": true,
            "type": "string"
           },
           {
            "metadata": {},
            "name": "strBadge",
            "nullable": true,
            "type": "string"
           },
           {
            "metadata": {},
            "name": "intWin",
            "nullable": true,
            "type": "integer"
           },
           {
            "metadata": {},
            "name": "intLoss",
            "nullable": true,
            "type": "integer"
           },
           {
            "metadata": {},
            "name": "intDraw",
            "nullable": true,
            "type": "integer"
           },
           {
            "metadata": {},
            "name": "intPts",
            "nullable": true,
            "type": "integer"
           },
           {
            "metadata": {},
            "name": "intGoalDifference",
            "nullable": true,
            "type": "integer"
           },
           {
            "metadata": {},
            "name": "intGoalsFor",
            "nullable": true,
            "type": "integer"
           },
           {
            "metadata": {},
            "name": "intGoalsAgainst",
            "nullable": true,
            "type": "integer"
           },
           {
            "metadata": {},
            "name": "intPlayed",
            "nullable": true,
            "type": "integer"
           },
           {
            "metadata": {},
            "name": "intRank",
            "nullable": true,
            "type": "integer"
           },
           {
            "metadata": {},
            "name": "intSeason",
            "nullable": true,
            "type": "integer"
           },
           {
            "metadata": {},
            "name": "dateUpdated",
            "nullable": true,
            "type": "date"
           },
           {
            "metadata": {},
            "name": "hash_value",
            "nullable": true,
            "type": "string"
           },
           {
            "metadata": {},
            "name": "upload_gold",
            "nullable": true,
            "type": "timestamp"
           }
          ],
          "type": "struct"
         },
         "tableIdentifier": null,
         "typeStr": "pyspark.sql.connect.dataframe.DataFrame"
        }
       ],
       "dbfsResultPath": null,
       "isJsonSchema": true,
       "metadata": {
        "createTempViewForImplicitDf": true,
        "dataframeName": "_sqldf",
        "executionCount": 72
       },
       "overflow": false,
       "plotOptions": {
        "customPlotOptions": {},
        "displayType": "table",
        "pivotAggregation": null,
        "pivotColumns": null,
        "xColumns": null,
        "yColumns": null
       },
       "removedWidgets": [],
       "schema": [
        {
         "metadata": "{}",
         "name": "idTeam",
         "type": "\"integer\""
        },
        {
         "metadata": "{}",
         "name": "idLeague",
         "type": "\"integer\""
        },
        {
         "metadata": "{}",
         "name": "strTeam",
         "type": "\"string\""
        },
        {
         "metadata": "{}",
         "name": "strLeague",
         "type": "\"string\""
        },
        {
         "metadata": "{}",
         "name": "strBadge",
         "type": "\"string\""
        },
        {
         "metadata": "{}",
         "name": "intWin",
         "type": "\"integer\""
        },
        {
         "metadata": "{}",
         "name": "intLoss",
         "type": "\"integer\""
        },
        {
         "metadata": "{}",
         "name": "intDraw",
         "type": "\"integer\""
        },
        {
         "metadata": "{}",
         "name": "intPts",
         "type": "\"integer\""
        },
        {
         "metadata": "{}",
         "name": "intGoalDifference",
         "type": "\"integer\""
        },
        {
         "metadata": "{}",
         "name": "intGoalsFor",
         "type": "\"integer\""
        },
        {
         "metadata": "{}",
         "name": "intGoalsAgainst",
         "type": "\"integer\""
        },
        {
         "metadata": "{}",
         "name": "intPlayed",
         "type": "\"integer\""
        },
        {
         "metadata": "{}",
         "name": "intRank",
         "type": "\"integer\""
        },
        {
         "metadata": "{}",
         "name": "intSeason",
         "type": "\"integer\""
        },
        {
         "metadata": "{}",
         "name": "dateUpdated",
         "type": "\"date\""
        },
        {
         "metadata": "{}",
         "name": "hash_value",
         "type": "\"string\""
        },
        {
         "metadata": "{}",
         "name": "upload_gold",
         "type": "\"timestamp\""
        }
       ],
       "type": "table"
      }
     },
     "output_type": "display_data"
    }
   ],
   "source": [
    "%sql\n",
    "SELECT * FROM brasileirao_medallion.gold.power_bi_gold;"
   ]
  },
  {
   "cell_type": "code",
   "execution_count": 0,
   "metadata": {
    "application/vnd.databricks.v1+cell": {
     "cellMetadata": {
      "byteLimit": 2048000,
      "implicitDf": true,
      "rowLimit": 10000
     },
     "inputWidgets": {},
     "nuid": "89633f32-7600-4131-97ce-32e5c527d9ca",
     "showTitle": false,
     "tableResultSettingsMap": {},
     "title": ""
    }
   },
   "outputs": [
    {
     "output_type": "display_data",
     "data": {
      "text/html": [
       "<style scoped>\n",
       "  .table-result-container {\n",
       "    max-height: 300px;\n",
       "    overflow: auto;\n",
       "  }\n",
       "  table, th, td {\n",
       "    border: 1px solid black;\n",
       "    border-collapse: collapse;\n",
       "  }\n",
       "  th, td {\n",
       "    padding: 5px;\n",
       "  }\n",
       "  th {\n",
       "    text-align: left;\n",
       "  }\n",
       "</style><div class='table-result-container'><table class='table-result'><thead style='background-color: white'><tr><th>idTeam</th><th>strTeam</th><th>strBadge</th><th>upload_silver</th><th>hash_value</th></tr></thead><tbody><tr><td>134293</td><td>Bahia</td><td>https://r2.thesportsdb.com/images/media/team/badge/xuvtsv1473539308.png/tiny</td><td>2025-08-04</td><td>0a1eeef1a57786eef8c362729b6bac4e6b535485098197f0cf09612f4f44df18</td></tr><tr><td>134294</td><td>Cruzeiro</td><td>https://r2.thesportsdb.com/images/media/team/badge/upsvvu1473538059.png/tiny</td><td>2025-08-04</td><td>c5430ae28a9818e05f5a99bb921573f47b1fb787dd28349249e6702ab734c472</td></tr><tr><td>134287</td><td>Flamengo</td><td>https://r2.thesportsdb.com/images/media/team/badge/syptwx1473538074.png/tiny</td><td>2025-08-04</td><td>1e3546941cd1a59511ca5c8b4eaeb4cd663aa4eff2edabe4f8f409fa6a6d92f3</td></tr><tr><td>141181</td><td>Mirassol</td><td>https://r2.thesportsdb.com/images/media/team/badge/tfth1h1617198957.png/tiny</td><td>2025-08-04</td><td>96f343909422dcee3f545ddc1184b7c35c7e172b21ad825cd548dcfe862cd484</td></tr><tr><td>134465</td><td>Palmeiras</td><td>https://r2.thesportsdb.com/images/media/team/badge/vsqwqp1473538105.png/tiny</td><td>2025-08-04</td><td>3fd34afc68e86431efe15c98c9aafba95e798e8d09e8b67b87e78e6698a6fb6d</td></tr></tbody></table></div>"
      ]
     },
     "metadata": {
      "application/vnd.databricks.v1+output": {
       "addedWidgets": {},
       "aggData": [],
       "aggError": "",
       "aggOverflow": false,
       "aggSchema": [],
       "aggSeriesLimitReached": false,
       "aggType": "",
       "arguments": {},
       "columnCustomDisplayInfos": {},
       "data": [
        [
         134293,
         "Bahia",
         "https://r2.thesportsdb.com/images/media/team/badge/xuvtsv1473539308.png/tiny",
         "2025-08-04",
         "0a1eeef1a57786eef8c362729b6bac4e6b535485098197f0cf09612f4f44df18"
        ],
        [
         134294,
         "Cruzeiro",
         "https://r2.thesportsdb.com/images/media/team/badge/upsvvu1473538059.png/tiny",
         "2025-08-04",
         "c5430ae28a9818e05f5a99bb921573f47b1fb787dd28349249e6702ab734c472"
        ],
        [
         134287,
         "Flamengo",
         "https://r2.thesportsdb.com/images/media/team/badge/syptwx1473538074.png/tiny",
         "2025-08-04",
         "1e3546941cd1a59511ca5c8b4eaeb4cd663aa4eff2edabe4f8f409fa6a6d92f3"
        ],
        [
         141181,
         "Mirassol",
         "https://r2.thesportsdb.com/images/media/team/badge/tfth1h1617198957.png/tiny",
         "2025-08-04",
         "96f343909422dcee3f545ddc1184b7c35c7e172b21ad825cd548dcfe862cd484"
        ],
        [
         134465,
         "Palmeiras",
         "https://r2.thesportsdb.com/images/media/team/badge/vsqwqp1473538105.png/tiny",
         "2025-08-04",
         "3fd34afc68e86431efe15c98c9aafba95e798e8d09e8b67b87e78e6698a6fb6d"
        ]
       ],
       "datasetInfos": [
        {
         "name": "_sqldf",
         "schema": {
          "fields": [
           {
            "metadata": {},
            "name": "idTeam",
            "nullable": false,
            "type": "integer"
           },
           {
            "metadata": {},
            "name": "strTeam",
            "nullable": true,
            "type": "string"
           },
           {
            "metadata": {},
            "name": "strBadge",
            "nullable": true,
            "type": "string"
           },
           {
            "metadata": {},
            "name": "upload_silver",
            "nullable": true,
            "type": "date"
           },
           {
            "metadata": {},
            "name": "hash_value",
            "nullable": true,
            "type": "string"
           }
          ],
          "type": "struct"
         },
         "tableIdentifier": null,
         "typeStr": "pyspark.sql.connect.dataframe.DataFrame"
        }
       ],
       "dbfsResultPath": null,
       "isJsonSchema": true,
       "metadata": {
        "createTempViewForImplicitDf": true,
        "dataframeName": "_sqldf",
        "executionCount": 73
       },
       "overflow": false,
       "plotOptions": {
        "customPlotOptions": {},
        "displayType": "table",
        "pivotAggregation": null,
        "pivotColumns": null,
        "xColumns": null,
        "yColumns": null
       },
       "removedWidgets": [],
       "schema": [
        {
         "metadata": "{}",
         "name": "idTeam",
         "type": "\"integer\""
        },
        {
         "metadata": "{}",
         "name": "strTeam",
         "type": "\"string\""
        },
        {
         "metadata": "{}",
         "name": "strBadge",
         "type": "\"string\""
        },
        {
         "metadata": "{}",
         "name": "upload_silver",
         "type": "\"date\""
        },
        {
         "metadata": "{}",
         "name": "hash_value",
         "type": "\"string\""
        }
       ],
       "type": "table"
      }
     },
     "output_type": "display_data"
    }
   ],
   "source": [
    "%sql\n",
    "SELECT * FROM  brasileirao_medallion.silver.dim_teams_silver;"
   ]
  },
  {
   "cell_type": "code",
   "execution_count": 0,
   "metadata": {
    "application/vnd.databricks.v1+cell": {
     "cellMetadata": {},
     "inputWidgets": {},
     "nuid": "fe13c7fe-3365-4e5a-aa75-631faee80535",
     "showTitle": false,
     "tableResultSettingsMap": {},
     "title": ""
    }
   },
   "outputs": [],
   "source": []
  }
 ],
 "metadata": {
  "application/vnd.databricks.v1+notebook": {
   "computePreferences": null,
   "dashboards": [],
   "environmentMetadata": {
    "base_environment": "",
    "environment_version": "2"
   },
   "inputWidgetPreferences": null,
   "language": "python",
   "notebookMetadata": {
    "mostRecentlyExecutedCommandWithImplicitDF": {
     "commandId": 4899501609400179,
     "dataframes": [
      "_sqldf"
     ]
    },
    "pythonIndentUnit": 4
   },
   "notebookName": "Silver_Gold",
   "widgets": {}
  },
  "language_info": {
   "name": "python"
  }
 },
 "nbformat": 4,
 "nbformat_minor": 0
}